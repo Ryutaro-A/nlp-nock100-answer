{
 "cells": [
  {
   "cell_type": "markdown",
   "id": "indie-assault",
   "metadata": {},
   "source": [
    "# 第7章: 単語ベクトル\n",
    "単語の意味を実ベクトルで表現する単語ベクトル（単語埋め込み）に関して，以下の処理を行うプログラムを作成せよ．"
   ]
  },
  {
   "cell_type": "markdown",
   "id": "atomic-hobby",
   "metadata": {},
   "source": [
    "### 60. 単語ベクトルの読み込みと表示\n",
    "Google Newsデータセット（約1,000億単語）での学習済み単語ベクトル（300万単語・フレーズ，300次元）をダウンロードし，”United States”の単語ベクトルを表示せよ．ただし，”United States”は内部的には”United_States”と表現されていることに注意せよ．"
   ]
  },
  {
   "cell_type": "code",
   "execution_count": 5,
   "id": "municipal-equity",
   "metadata": {},
   "outputs": [
    {
     "data": {
      "text/plain": [
       "array([-3.61328125e-02, -4.83398438e-02,  2.35351562e-01,  1.74804688e-01,\n",
       "       -1.46484375e-01, -7.42187500e-02, -1.01562500e-01, -7.71484375e-02,\n",
       "        1.09375000e-01, -5.71289062e-02, -1.48437500e-01, -6.00585938e-02,\n",
       "        1.74804688e-01, -7.71484375e-02,  2.58789062e-02, -7.66601562e-02,\n",
       "       -3.80859375e-02,  1.35742188e-01,  3.75976562e-02, -4.19921875e-02,\n",
       "       -3.56445312e-02,  5.34667969e-02,  3.68118286e-04, -1.66992188e-01,\n",
       "       -1.17187500e-01,  1.41601562e-01, -1.69921875e-01, -6.49414062e-02,\n",
       "       -1.66992188e-01,  1.00585938e-01,  1.15722656e-01, -2.18750000e-01,\n",
       "       -9.86328125e-02, -2.56347656e-02,  1.23046875e-01, -3.54003906e-02,\n",
       "       -1.58203125e-01, -1.60156250e-01,  2.94189453e-02,  8.15429688e-02,\n",
       "        6.88476562e-02,  1.87500000e-01,  6.49414062e-02,  1.15234375e-01,\n",
       "       -2.27050781e-02,  3.32031250e-01, -3.27148438e-02,  1.77734375e-01,\n",
       "       -2.08007812e-01,  4.54101562e-02, -1.23901367e-02,  1.19628906e-01,\n",
       "        7.44628906e-03, -9.03320312e-03,  1.14257812e-01,  1.69921875e-01,\n",
       "       -2.38281250e-01, -2.79541016e-02, -1.21093750e-01,  2.47802734e-02,\n",
       "        7.71484375e-02, -2.81982422e-02, -4.71191406e-02,  1.78222656e-02,\n",
       "       -1.23046875e-01, -5.32226562e-02,  2.68554688e-02, -3.11279297e-02,\n",
       "       -5.59082031e-02, -5.00488281e-02, -3.73535156e-02,  1.25976562e-01,\n",
       "        5.61523438e-02,  1.51367188e-01,  4.29687500e-02, -2.08007812e-01,\n",
       "       -4.78515625e-02,  2.78320312e-02,  1.81640625e-01,  2.20703125e-01,\n",
       "       -3.61328125e-02, -8.39843750e-02, -3.69548798e-05, -9.52148438e-02,\n",
       "       -1.25000000e-01, -1.95312500e-01, -1.50390625e-01, -4.15039062e-02,\n",
       "        1.31835938e-01,  1.17675781e-01,  1.91650391e-02,  5.51757812e-02,\n",
       "       -9.42382812e-02, -1.08886719e-01,  7.32421875e-02, -1.15234375e-01,\n",
       "        8.93554688e-02, -1.40625000e-01,  1.45507812e-01,  4.49218750e-02,\n",
       "       -1.10473633e-02, -1.62353516e-02,  4.05883789e-03,  3.75976562e-02,\n",
       "       -6.98242188e-02, -5.46875000e-02,  2.17285156e-02, -9.47265625e-02,\n",
       "        4.24804688e-02,  1.81884766e-02, -1.73339844e-02,  4.63867188e-02,\n",
       "       -1.42578125e-01,  1.99218750e-01,  1.10839844e-01,  2.58789062e-02,\n",
       "       -7.08007812e-02, -5.54199219e-02,  3.45703125e-01,  1.61132812e-01,\n",
       "       -2.44140625e-01, -2.59765625e-01, -9.71679688e-02,  8.00781250e-02,\n",
       "       -8.78906250e-02, -7.22656250e-02,  1.42578125e-01, -8.54492188e-02,\n",
       "       -3.18359375e-01,  8.30078125e-02,  6.34765625e-02,  1.64062500e-01,\n",
       "       -1.92382812e-01, -1.17675781e-01, -5.41992188e-02, -1.56250000e-01,\n",
       "       -1.21582031e-01, -4.95605469e-02,  1.20117188e-01, -3.83300781e-02,\n",
       "        5.51757812e-02, -8.97216797e-03,  4.32128906e-02,  6.93359375e-02,\n",
       "        8.93554688e-02,  2.53906250e-01,  1.65039062e-01,  1.64062500e-01,\n",
       "       -1.41601562e-01,  4.58984375e-02,  1.97265625e-01, -8.98437500e-02,\n",
       "        3.90625000e-02, -1.51367188e-01, -8.60595703e-03, -1.17675781e-01,\n",
       "       -1.97265625e-01, -1.12792969e-01,  1.29882812e-01,  1.96289062e-01,\n",
       "        1.56402588e-03,  3.93066406e-02,  2.17773438e-01, -1.43554688e-01,\n",
       "        6.03027344e-02, -1.35742188e-01,  1.16210938e-01, -1.59912109e-02,\n",
       "        2.79296875e-01,  1.46484375e-01, -1.19628906e-01,  1.76757812e-01,\n",
       "        1.28906250e-01, -1.49414062e-01,  6.93359375e-02, -1.72851562e-01,\n",
       "        9.22851562e-02,  1.33056641e-02, -2.00195312e-01, -9.76562500e-02,\n",
       "       -1.65039062e-01, -2.46093750e-01, -2.35595703e-02, -2.11914062e-01,\n",
       "        1.84570312e-01, -1.85546875e-02,  2.16796875e-01,  5.05371094e-02,\n",
       "        2.02636719e-02,  4.25781250e-01,  1.28906250e-01, -2.77099609e-02,\n",
       "        1.29882812e-01, -1.15722656e-01, -2.05078125e-02,  1.49414062e-01,\n",
       "        7.81250000e-03, -2.05078125e-01, -8.05664062e-02, -2.67578125e-01,\n",
       "       -2.29492188e-02, -8.20312500e-02,  8.64257812e-02,  7.61718750e-02,\n",
       "       -3.66210938e-02,  5.22460938e-02, -1.22070312e-01, -1.44042969e-02,\n",
       "       -2.69531250e-01,  8.44726562e-02, -2.52685547e-02, -2.96630859e-02,\n",
       "       -1.68945312e-01,  1.93359375e-01, -1.08398438e-01,  1.94091797e-02,\n",
       "       -1.80664062e-01,  1.93359375e-01, -7.08007812e-02,  5.85937500e-02,\n",
       "       -1.01562500e-01, -1.31835938e-01,  7.51953125e-02, -7.66601562e-02,\n",
       "        3.37219238e-03, -8.59375000e-02,  1.25000000e-01,  2.92968750e-02,\n",
       "        1.70898438e-01, -9.37500000e-02, -1.09375000e-01, -2.50244141e-02,\n",
       "        2.11914062e-01, -4.44335938e-02,  6.12792969e-02,  2.62451172e-02,\n",
       "       -1.77734375e-01,  1.23046875e-01, -7.42187500e-02, -1.67968750e-01,\n",
       "       -1.08886719e-01, -9.04083252e-04, -7.37304688e-02,  5.49316406e-02,\n",
       "        6.03027344e-02,  8.39843750e-02,  9.17968750e-02, -1.32812500e-01,\n",
       "        1.22070312e-01, -8.78906250e-03,  1.19140625e-01, -1.94335938e-01,\n",
       "       -6.64062500e-02, -2.07031250e-01,  7.37304688e-02,  8.93554688e-02,\n",
       "        1.81884766e-02, -1.20605469e-01, -2.61230469e-02,  2.67333984e-02,\n",
       "        7.76367188e-02, -8.30078125e-02,  6.78710938e-02, -3.54003906e-02,\n",
       "        3.10546875e-01, -2.42919922e-02, -1.41601562e-01, -2.08007812e-01,\n",
       "       -4.57763672e-03, -6.54296875e-02, -4.95605469e-02,  2.22656250e-01,\n",
       "        1.53320312e-01, -1.38671875e-01, -5.24902344e-02,  4.24804688e-02,\n",
       "       -2.38281250e-01,  1.56250000e-01,  5.83648682e-04, -1.20605469e-01,\n",
       "       -9.22851562e-02, -4.44335938e-02,  3.61328125e-02, -1.86767578e-02,\n",
       "       -8.25195312e-02, -8.25195312e-02, -4.05273438e-02,  1.19018555e-02,\n",
       "        1.69921875e-01, -2.80761719e-02,  3.03649902e-03,  9.32617188e-02,\n",
       "       -8.49609375e-02,  1.57470703e-02,  7.03125000e-02,  1.62353516e-02,\n",
       "       -2.27050781e-02,  3.51562500e-02,  2.47070312e-01, -2.67333984e-02],\n",
       "      dtype=float32)"
      ]
     },
     "execution_count": 5,
     "metadata": {},
     "output_type": "execute_result"
    }
   ],
   "source": [
    "from gensim.models import KeyedVectors\n",
    "\n",
    "# gensimでバイナリファイルをロード\n",
    "model = KeyedVectors.load_word2vec_format(\"./GoogleNews-vectors-negative300.bin\", binary=True)\n",
    "# キーに対応する単語ベクトルを表示\n",
    "model[\"United_States\"]"
   ]
  },
  {
   "cell_type": "markdown",
   "id": "silent-omaha",
   "metadata": {},
   "source": [
    "### 61. 単語の類似度\n",
    "“United States”と”U.S.”のコサイン類似度を計算せよ．"
   ]
  },
  {
   "cell_type": "code",
   "execution_count": 2,
   "id": "provincial-question",
   "metadata": {},
   "outputs": [
    {
     "data": {
      "text/plain": [
       "0.73107743"
      ]
     },
     "execution_count": 2,
     "metadata": {},
     "output_type": "execute_result"
    }
   ],
   "source": [
    "# キーとキーの類似度を出力\n",
    "model.similarity(\"United_States\", \"U.S.\")"
   ]
  },
  {
   "cell_type": "markdown",
   "id": "protected-spirituality",
   "metadata": {},
   "source": [
    "### 62. 類似度の高い単語10件\n",
    "“United States”とコサイン類似度が高い10語と，その類似度を出力せよ．"
   ]
  },
  {
   "cell_type": "code",
   "execution_count": 3,
   "id": "three-generic",
   "metadata": {},
   "outputs": [
    {
     "data": {
      "text/plain": [
       "[('Unites_States', 0.7877248525619507),\n",
       " ('Untied_States', 0.7541370987892151),\n",
       " ('United_Sates', 0.7400724291801453),\n",
       " ('U.S.', 0.7310774326324463),\n",
       " ('theUnited_States', 0.6404393911361694),\n",
       " ('America', 0.6178410053253174),\n",
       " ('UnitedStates', 0.6167312264442444),\n",
       " ('Europe', 0.6132988929748535),\n",
       " ('countries', 0.6044804453849792),\n",
       " ('Canada', 0.601906955242157)]"
      ]
     },
     "execution_count": 3,
     "metadata": {},
     "output_type": "execute_result"
    }
   ],
   "source": [
    "# 指定キーとコサイン類似度が高いものを10個まで出力\n",
    "model.most_similar(\"United_States\", topn=10)"
   ]
  },
  {
   "cell_type": "markdown",
   "id": "current-olive",
   "metadata": {},
   "source": [
    "### 63. 加法構成性によるアナロジー\n",
    "“Spain”の単語ベクトルから”Madrid”のベクトルを引き，”Athens”のベクトルを足したベクトルを計算し，そのベクトルと類似度の高い10語とその類似度を出力せよ．"
   ]
  },
  {
   "cell_type": "code",
   "execution_count": 4,
   "id": "respective-pontiac",
   "metadata": {},
   "outputs": [
    {
     "data": {
      "text/plain": [
       "[('Greece', 0.6898480653762817),\n",
       " ('Aristeidis_Grigoriadis', 0.560684859752655),\n",
       " ('Ioannis_Drymonakos', 0.5552908778190613),\n",
       " ('Greeks', 0.545068621635437),\n",
       " ('Ioannis_Christou', 0.5400862097740173),\n",
       " ('Hrysopiyi_Devetzi', 0.5248445272445679),\n",
       " ('Heraklio', 0.5207759737968445),\n",
       " ('Athens_Greece', 0.516880989074707),\n",
       " ('Lithuania', 0.5166865587234497),\n",
       " ('Iraklion', 0.5146791338920593)]"
      ]
     },
     "execution_count": 4,
     "metadata": {},
     "output_type": "execute_result"
    }
   ],
   "source": [
    "# 単語ベクトルの演算を行う\n",
    "model.most_similar(positive=[\"Spain\", \"Athens\"], negative=[\"Madrid\"], topn=10)"
   ]
  },
  {
   "cell_type": "markdown",
   "id": "prescription-gross",
   "metadata": {},
   "source": [
    "### 64. アナロジーデータでの実験\n",
    "単語アナロジーの評価データをダウンロードし，vec(2列目の単語) - vec(1列目の単語) + vec(3列目の単語)を計算し，そのベクトルと類似度が最も高い単語と，その類似度を求めよ．求めた単語と類似度は，各事例の末尾に追記せよ．"
   ]
  },
  {
   "cell_type": "code",
   "execution_count": 9,
   "id": "flush-halifax",
   "metadata": {},
   "outputs": [
    {
     "name": "stderr",
     "output_type": "stream",
     "text": [
      "100%|██████████| 19559/19559 [52:44<00:00,  6.18it/s]\n"
     ]
    }
   ],
   "source": [
    "import pandas as pd\n",
    "from tqdm import tqdm\n",
    "\n",
    "# pandasでテキストファイルをロード\n",
    "with open(\"questions-words.txt\", encoding='utf-8') as f:\n",
    "    lines = f.read().split(\"\\n\")\n",
    "    \n",
    "with open(\"questions-words2.txt\", mode=\"w\", encoding='utf-8') as f:\n",
    "    for line in tqdm(lines):\n",
    "        if line == \"\" or line[0]==':':\n",
    "            f.write(f'{line}\\n')\n",
    "            continue\n",
    "        row = line.split(\" \")\n",
    "        word, similarity = model.most_similar(positive=[row[1], row[2]], negative=[row[0]], topn=1)[0]\n",
    "        f.write(f'{row[0]} {row[1]} {row[2]} {row[3]} {word} {similarity}\\n')"
   ]
  },
  {
   "cell_type": "markdown",
   "metadata": {},
   "source": [
    "## 65. アナロジータスクでの正解率\n",
    "64の実行結果を用い，意味的アナロジー（semantic analogy）と文法的アナロジー（syntactic analogy）の正解率を測定せよ．"
   ]
  },
  {
   "cell_type": "code",
   "execution_count": 9,
   "id": "614527fa",
   "metadata": {},
   "outputs": [
    {
     "name": "stdout",
     "output_type": "stream",
     "text": [
      "意味的アナロジー正解率: 0.7308602999210734\n",
      "文法的アナロジー正解率: 0.7400468384074942\n"
     ]
    }
   ],
   "source": [
    "with open('./questions-words2.txt', encoding='utf-8') as f:\n",
    "    lines = f.read().split('\\n')\n",
    "\n",
    "gram_flag = False\n",
    "sem_cnt = 0\n",
    "sem_cor = 0\n",
    "syn_cnt = 0\n",
    "syn_cor = 0\n",
    "for line in lines:\n",
    "    if line == '':\n",
    "        continue\n",
    "\n",
    "    if line[0] == ':' and 'gram' in line:\n",
    "        gram_flag = True\n",
    "    elif line[0] == ':' and not 'gram' in line:\n",
    "        gram_flag = False\n",
    "    else:\n",
    "        line = line.split(' ')\n",
    "        # 文法的アナロジーを計算するモード\n",
    "        if gram_flag == True:\n",
    "            syn_cnt += 1\n",
    "            if line[3] == line[4]:\n",
    "                syn_cor += 1\n",
    "        # 意味的アナロジーを計算するモード\n",
    "        else:\n",
    "            sem_cnt += 1\n",
    "            if line[3] == line[4]:\n",
    "                sem_cor += 1\n",
    "\n",
    "print(f'意味的アナロジー正解率: {sem_cor/sem_cnt}')\n",
    "print(f'文法的アナロジー正解率: {syn_cor/syn_cnt}')"
   ]
  },
  {
   "cell_type": "markdown",
   "id": "20ee86c1-8d47-4911-8933-dbcdd1c5cc4b",
   "metadata": {},
   "source": [
    "## 66. WordSimilarity-353での評価\n",
    "The WordSimilarity-353 Test Collectionの評価データをダウンロードし，単語ベクトルにより計算される類似度のランキングと，人間の類似度判定のランキングの間のスピアマン相関係数を計算せよ．"
   ]
  },
  {
   "cell_type": "code",
   "execution_count": 20,
   "id": "dynamic-momentum",
   "metadata": {},
   "outputs": [
    {
     "name": "stdout",
     "output_type": "stream",
     "text": [
      "スピアマン相関係数 : 0.9999828128046265\n"
     ]
    }
   ],
   "source": [
    "import numpy as np\n",
    "import pandas as pd\n",
    "from scipy.stats import spearmanr\n",
    "\n",
    "# 評価データのロード\n",
    "combined = pd.read_csv(\"./wordsim353/combined.csv\")\n",
    "vecs = []\n",
    "humans = []\n",
    "\n",
    "# 単語の類似度を単語とともに辞書に格納\n",
    "for word1, word2,human  in zip(combined[\"Word 1\"], combined[\"Word 2\"], combined['Human (mean)']):\n",
    "    vecs.append([word1, word2, model.similarity(word1, word2)])\n",
    "    humans.append([word1, word2, human])\n",
    "# 類似度で降順にソートし出力\n",
    "vecs = sorted(vecs, reverse=True, key=lambda x: x[2])\n",
    "humans = sorted(humans, reverse=True, key=lambda x: x[2])\n",
    "\n",
    "correlation, _ = spearmanr([i for _, _, i in vecs], [i for _, _, i in humans])\n",
    "print(f'スピアマン相関係数 : {correlation}')"
   ]
  },
  {
   "cell_type": "markdown",
   "id": "42d079ce-a50e-4522-9d21-6973dc259db7",
   "metadata": {
    "tags": []
   },
   "source": [
    "## 67. k-meansクラスタリング\n",
    "国名に関する単語ベクトルを抽出し，k-meansクラスタリングをクラスタ数k=5として実行せよ"
   ]
  },
  {
   "cell_type": "code",
   "execution_count": 21,
   "id": "87e62f38-b041-42b5-8798-b8398fce6c7a",
   "metadata": {},
   "outputs": [],
   "source": [
    "# 国名データの取得\n",
    "with open(\"questions-words2.txt\", encoding='utf-8') as f:\n",
    "    lines = f.read().split(\"\\n\")\n",
    "    \n",
    "flag = False\n",
    "countries = []\n",
    "for line in lines:\n",
    "    if line == \"\":\n",
    "        continue\n",
    "    if line[0] == \":\":\n",
    "        _, theme = line.split(\" \")\n",
    "        if theme == \"capital-world\" or theme == \"capital-common-countries\":\n",
    "            flag = True\n",
    "            continue\n",
    "        else:\n",
    "            flag = False\n",
    "    if flag == True:\n",
    "        countries.append(line.split(\" \")[1])\n",
    "\n",
    "# 国名のリスト\n",
    "countries = list(set(countries))\n",
    "# 国名のベクトルのリスト\n",
    "countries_vec = [model[country] for country in countries]"
   ]
  },
  {
   "cell_type": "code",
   "execution_count": 22,
   "id": "e9d489dc-ea71-4273-96f9-634decf00885",
   "metadata": {},
   "outputs": [
    {
     "data": {
      "text/html": [
       "<div>\n",
       "<style scoped>\n",
       "    .dataframe tbody tr th:only-of-type {\n",
       "        vertical-align: middle;\n",
       "    }\n",
       "\n",
       "    .dataframe tbody tr th {\n",
       "        vertical-align: top;\n",
       "    }\n",
       "\n",
       "    .dataframe thead th {\n",
       "        text-align: right;\n",
       "    }\n",
       "</style>\n",
       "<table border=\"1\" class=\"dataframe\">\n",
       "  <thead>\n",
       "    <tr style=\"text-align: right;\">\n",
       "      <th></th>\n",
       "      <th>class_id</th>\n",
       "      <th>country</th>\n",
       "    </tr>\n",
       "  </thead>\n",
       "  <tbody>\n",
       "    <tr>\n",
       "      <th>0</th>\n",
       "      <td>0</td>\n",
       "      <td>Uzbekistan</td>\n",
       "    </tr>\n",
       "    <tr>\n",
       "      <th>1</th>\n",
       "      <td>0</td>\n",
       "      <td>Syria</td>\n",
       "    </tr>\n",
       "    <tr>\n",
       "      <th>2</th>\n",
       "      <td>0</td>\n",
       "      <td>Turkmenistan</td>\n",
       "    </tr>\n",
       "    <tr>\n",
       "      <th>3</th>\n",
       "      <td>0</td>\n",
       "      <td>Bhutan</td>\n",
       "    </tr>\n",
       "    <tr>\n",
       "      <th>4</th>\n",
       "      <td>0</td>\n",
       "      <td>China</td>\n",
       "    </tr>\n",
       "    <tr>\n",
       "      <th>...</th>\n",
       "      <td>...</td>\n",
       "      <td>...</td>\n",
       "    </tr>\n",
       "    <tr>\n",
       "      <th>111</th>\n",
       "      <td>4</td>\n",
       "      <td>Montenegro</td>\n",
       "    </tr>\n",
       "    <tr>\n",
       "      <th>112</th>\n",
       "      <td>4</td>\n",
       "      <td>Macedonia</td>\n",
       "    </tr>\n",
       "    <tr>\n",
       "      <th>113</th>\n",
       "      <td>4</td>\n",
       "      <td>Greece</td>\n",
       "    </tr>\n",
       "    <tr>\n",
       "      <th>114</th>\n",
       "      <td>4</td>\n",
       "      <td>Georgia</td>\n",
       "    </tr>\n",
       "    <tr>\n",
       "      <th>115</th>\n",
       "      <td>4</td>\n",
       "      <td>Armenia</td>\n",
       "    </tr>\n",
       "  </tbody>\n",
       "</table>\n",
       "<p>116 rows × 2 columns</p>\n",
       "</div>"
      ],
      "text/plain": [
       "     class_id       country\n",
       "0           0    Uzbekistan\n",
       "1           0         Syria\n",
       "2           0  Turkmenistan\n",
       "3           0        Bhutan\n",
       "4           0         China\n",
       "..        ...           ...\n",
       "111         4    Montenegro\n",
       "112         4     Macedonia\n",
       "113         4        Greece\n",
       "114         4       Georgia\n",
       "115         4       Armenia\n",
       "\n",
       "[116 rows x 2 columns]"
      ]
     },
     "execution_count": 22,
     "metadata": {},
     "output_type": "execute_result"
    }
   ],
   "source": [
    "from sklearn.cluster import KMeans\n",
    "\n",
    "# k-means法で学習\n",
    "kmeans = KMeans(n_clusters=5, max_iter=1000)\n",
    "pred = kmeans.fit_predict(countries_vec)\n",
    "\n",
    "# DataFrameに変換し可視化\n",
    "df = pd.DataFrame({\"class_id\":pred, \"country\":countries})\n",
    "df = df.sort_values(\"class_id\").reset_index(drop=True) # DataFrameのインデックスをリセット\n",
    "df"
   ]
  },
  {
   "cell_type": "markdown",
   "id": "b28f4b49-4e5e-45a4-8615-cde18a83371a",
   "metadata": {},
   "source": [
    "## 68. Ward法によるクラスタリング\n",
    "国名に関する単語ベクトルに対し，Ward法による階層型クラスタリングを実行せよ．さらに，クラスタリング結果をデンドログラムとして可視化せよ．"
   ]
  },
  {
   "cell_type": "code",
   "execution_count": 24,
   "id": "209cec8a-9c8a-4119-88ef-4df59b6b3377",
   "metadata": {},
   "outputs": [
    {
     "data": {
      "image/png": "[encoded data removed]",
      "text/plain": [
       "<Figure size 432x288 with 1 Axes>"
      ]
     },
     "metadata": {
      "needs_background": "light"
     },
     "output_type": "display_data"
    }
   ],
   "source": [
    "from scipy.cluster.hierarchy import dendrogram, linkage\n",
    "import matplotlib.pyplot as plt\n",
    "import japanize_matplotlib\n",
    "\n",
    "# 階層型クラスタリングで学習\n",
    "cluster = linkage(countries_vec, method=\"ward\", metric=\"euclidean\")\n",
    "dendrogram(cluster, labels=countries)\n",
    "\n",
    "# 図示\n",
    "plt.title(\"Ward法によるクラスタリング\")\n",
    "plt.show()"
   ]
  },
  {
   "cell_type": "markdown",
   "id": "49f66f66-e90c-4ca2-8e39-8cecb2881f76",
   "metadata": {},
   "source": [
    "## 69. t-SNEによる可視化\n",
    "ベクトル空間上の国名に関する単語ベクトルをt-SNEで可視化せよ．\n",
    "(t-SNEは次元削減アルゴリズム)"
   ]
  },
  {
   "cell_type": "code",
   "execution_count": 25,
   "id": "a83795ce-9a72-4c58-9fe8-8978d7506962",
   "metadata": {},
   "outputs": [
    {
     "name": "stderr",
     "output_type": "stream",
     "text": [
      "D:\\base\\lib\\site-packages\\sklearn\\manifold\\_t_sne.py:780: FutureWarning: The default initialization in TSNE will change from 'random' to 'pca' in 1.2.\n",
      "  warnings.warn(\n",
      "D:\\base\\lib\\site-packages\\sklearn\\manifold\\_t_sne.py:790: FutureWarning: The default learning rate in TSNE will change from 200.0 to 'auto' in 1.2.\n",
      "  warnings.warn(\n"
     ]
    },
    {
     "data": {
      "image/png": "[encoded data removed]",
      "text/plain": [
       "<Figure size 432x288 with 1 Axes>"
      ]
     },
     "metadata": {
      "needs_background": "light"
     },
     "output_type": "display_data"
    }
   ],
   "source": [
    "from sklearn.manifold import TSNE\n",
    "\n",
    "# t-SNEで次元圧縮\n",
    "tsne = TSNE(n_components = 2)\n",
    "X = tsne.fit_transform(countries_vec)\n",
    "\n",
    "# グラフの作成\n",
    "plt.xlim(X[:, 0].min(), X[:, 0].max() + 1)\n",
    "plt.ylim(X[:, 1].min(), X[:, 1].max() + 1)\n",
    "\n",
    "# 図示\n",
    "for i in range(len(countries_vec)):\n",
    "    plt.text(\n",
    "        X[i, 0],\n",
    "        X[i, 1],\n",
    "        str(countries[i]),\n",
    "        )"
   ]
  },
  {
   "cell_type": "code",
   "execution_count": null,
   "id": "da7229fb-2649-4a10-8e38-5aa562455d13",
   "metadata": {},
   "outputs": [],
   "source": []
  }
 ],
 "metadata": {
  "interpreter": {
   "hash": "bf872237def726a17c98cd5021a753e6fb6d57829984f48dafeeac1e44cc3a6e"
  },
  "kernelspec": {
   "display_name": "Python 3.8.6 64-bit ('base': venv)",
   "name": "python3"
  },
  "language_info": {
   "codemirror_mode": {
    "name": "ipython",
    "version": 3
   },
   "file_extension": ".py",
   "mimetype": "text/x-python",
   "name": "python",
   "nbconvert_exporter": "python",
   "pygments_lexer": "ipython3",
   "version": "3.8.10"
  }
 },
 "nbformat": 4,
 "nbformat_minor": 5
}
