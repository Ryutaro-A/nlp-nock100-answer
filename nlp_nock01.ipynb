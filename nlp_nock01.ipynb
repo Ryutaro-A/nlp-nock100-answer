{
 "cells": [
  {
   "cell_type": "markdown",
   "metadata": {},
   "source": [
    "# 第1章: 準備運動"
   ]
  },
  {
   "cell_type": "markdown",
   "metadata": {},
   "source": [
    "### 00. 文字列の逆順"
   ]
  },
  {
   "cell_type": "markdown",
   "metadata": {},
   "source": [
    "文字列”stressed”の文字を逆に（末尾から先頭に向かって）並べた文字列を得よ．"
   ]
  },
  {
   "cell_type": "code",
   "execution_count": 6,
   "metadata": {},
   "outputs": [
    {
     "name": "stdout",
     "output_type": "stream",
     "text": [
      "desserts"
     ]
    }
   ],
   "source": [
    "word = 'stressed'\n",
    "\n",
    "for i in reversed(word):\n",
    "    print(i, end='')"
   ]
  },
  {
   "cell_type": "markdown",
   "metadata": {},
   "source": [
    "### 01. 「パタトクカシーー」"
   ]
  },
  {
   "cell_type": "markdown",
   "metadata": {},
   "source": [
    "「パタトクカシーー」という文字列の1,3,5,7文字目を取り出して連結した文字列を得よ．"
   ]
  },
  {
   "cell_type": "code",
   "execution_count": 8,
   "metadata": {},
   "outputs": [
    {
     "name": "stdout",
     "output_type": "stream",
     "text": [
      "パトカー"
     ]
    }
   ],
   "source": [
    "word = 'パタトクカシー'\n",
    "for i, char in enumerate(word):\n",
    "    print(char if (i+1)%2!=0 else '', end='')"
   ]
  },
  {
   "cell_type": "markdown",
   "metadata": {},
   "source": [
    "### 02. 「パトカー」＋「タクシー」＝「パタトクカシーー」"
   ]
  },
  {
   "cell_type": "markdown",
   "metadata": {},
   "source": [
    "「パトカー」＋「タクシー」の文字を先頭から交互に連結して文字列「パタトクカシーー」を得よ．"
   ]
  },
  {
   "cell_type": "code",
   "execution_count": 10,
   "metadata": {},
   "outputs": [
    {
     "name": "stdout",
     "output_type": "stream",
     "text": [
      "パタトクカシーー"
     ]
    }
   ],
   "source": [
    "word1 = 'パトカー'\n",
    "word2 = 'タクシー'\n",
    "\n",
    "i = 0\n",
    "j = 0\n",
    "k = 0\n",
    "while(k<(len(word1)+len(word2))):\n",
    "    if k % 2 == 0:\n",
    "        print(word1[i],end='')\n",
    "        i+=1\n",
    "    else:\n",
    "        print(word2[j],end='')\n",
    "        j+=1\n",
    "    k+=1    "
   ]
  },
  {
   "cell_type": "markdown",
   "metadata": {},
   "source": [
    "### 03. 円周率"
   ]
  },
  {
   "cell_type": "markdown",
   "metadata": {},
   "source": [
    "“Now I need a drink, alcoholic of course, after the heavy lectures involving quantum mechanics.”という文を単語に分解し，各単語の（アルファベットの）文字数を先頭から出現順に並べたリストを作成せよ．"
   ]
  },
  {
   "cell_type": "code",
   "execution_count": 40,
   "metadata": {},
   "outputs": [
    {
     "data": {
      "text/plain": [
       "[3, 1, 4, 1, 5, 9, 2, 6, 5, 3, 5, 8, 9, 7, 9]"
      ]
     },
     "execution_count": 40,
     "metadata": {},
     "output_type": "execute_result"
    }
   ],
   "source": [
    "import re\n",
    "import collections\n",
    "\n",
    "sentence = 'Now I need a drink, alcoholic of course, after the heavy lectures involving quantum mechanics.'\n",
    "sentence = re.compile(r'[\\.,]').sub('', sentence).split(' ')\n",
    "sentence = [len(i) for i in sentence]\n",
    "sentence"
   ]
  },
  {
   "cell_type": "markdown",
   "metadata": {},
   "source": [
    "### 04. 元素記号"
   ]
  },
  {
   "cell_type": "markdown",
   "metadata": {},
   "source": [
    "“Hi He Lied Because Boron Could Not Oxidize Fluorine. New Nations Might Also Sign Peace Security Clause. Arthur King Can.”という文を単語に分解し，1, 5, 6, 7, 8, 9, 15, 16, 19番目の単語は先頭の1文字，それ以外の単語は先頭の2文字を取り出し，取り出した文字列から単語の位置（先頭から何番目の単語か）への連想配列（辞書型もしくはマップ型）を作成せよ．"
   ]
  },
  {
   "cell_type": "code",
   "execution_count": 48,
   "metadata": {},
   "outputs": [
    {
     "data": {
      "text/plain": [
       "{'Hi': 0,\n",
       " 'He': 1,\n",
       " 'Li': 2,\n",
       " 'Be': 3,\n",
       " 'Bo': 4,\n",
       " 'Co': 5,\n",
       " 'No': 6,\n",
       " 'Ox': 7,\n",
       " 'Fl': 8,\n",
       " 'Ne': 9,\n",
       " 'Na': 10,\n",
       " 'Mi': 11,\n",
       " 'Al': 12,\n",
       " 'Si': 13,\n",
       " 'Pe': 14,\n",
       " 'Se': 15,\n",
       " 'Cl': 16,\n",
       " 'Ar': 17,\n",
       " 'Ki': 18,\n",
       " 'Ca': 19}"
      ]
     },
     "execution_count": 48,
     "metadata": {},
     "output_type": "execute_result"
    }
   ],
   "source": [
    "sentence = 'Hi He Lied Because Boron Could Not Oxidize Fluorine. New Nations Might Also Sign Peace Security Clause. Arthur King Can.'\n",
    "sentence = re.compile(r'[\\.,]').sub('', sentence).split(' ')\n",
    "dic = {}\n",
    "\n",
    "for i, word in enumerate(sentence):\n",
    "    i+=1\n",
    "    if i == 1 and i == 5 and i == 6 and i == 6 and i == 7 and i == 8 and i == 9 and i == 15 and i == 16 and i == 19:\n",
    "        dic[word[0]] = sentence.index(word)\n",
    "    else:\n",
    "        dic[word[:2]] = sentence.index(word)\n",
    "\n",
    "dic\n"
   ]
  },
  {
   "cell_type": "markdown",
   "metadata": {},
   "source": [
    "### 05. n-gram"
   ]
  },
  {
   "cell_type": "markdown",
   "metadata": {},
   "source": [
    "与えられたシーケンス（文字列やリストなど）からn-gramを作る関数を作成せよ．この関数を用い，”I am an NLPer”という文から単語bi-gram，文字bi-gramを得よ．"
   ]
  },
  {
   "cell_type": "code",
   "execution_count": 84,
   "metadata": {},
   "outputs": [],
   "source": [
    "def n_gram_word(n, sentence):\n",
    "    # 単語n-gram\n",
    "    print(f'単語{n}-gram')\n",
    "    for i in range(len(sentence)-n+1):\n",
    "        print(' '.join(sentence[i:i+n]))\n",
    "\n",
    "    print()\n",
    "    \n",
    "def n_gram_letter(n, word):\n",
    "    # 文字n-gram\n",
    "    print(f'文字{n}-gram:')\n",
    "    for i in range(len(sentence)-1):\n",
    "        print(word[i:i+n])\n"
   ]
  },
  {
   "cell_type": "code",
   "execution_count": 85,
   "metadata": {},
   "outputs": [
    {
     "name": "stdout",
     "output_type": "stream",
     "text": [
      "単語2-gram\n",
      "I am\n",
      "am an\n",
      "an NLPer\n",
      "\n",
      "文字2-gram:\n",
      "I \n",
      " a\n",
      "am\n",
      "m \n",
      " a\n",
      "an\n",
      "n \n",
      " N\n",
      "NL\n",
      "LP\n",
      "Pe\n",
      "er\n"
     ]
    }
   ],
   "source": [
    "sentence = 'I am an NLPer'\n",
    "n_gram_word(2, sentence.split(' '))\n",
    "n_gram_letter(2, sentence)\n"
   ]
  },
  {
   "cell_type": "markdown",
   "metadata": {},
   "source": [
    "### 06. 集合"
   ]
  },
  {
   "cell_type": "markdown",
   "metadata": {},
   "source": [
    "“paraparaparadise”と”paragraph”に含まれる文字bi-gramの集合を，それぞれ, XとYとして求め，XとYの和集合，積集合，差集合を求めよ．さらに，’se’というbi-gramがXおよびYに含まれるかどうかを調べよ．"
   ]
  },
  {
   "cell_type": "code",
   "execution_count": 86,
   "metadata": {},
   "outputs": [],
   "source": [
    "def n_gram(n, word):\n",
    "    return [word[i:i+n] for i in range(len(word)-1)]"
   ]
  },
  {
   "cell_type": "code",
   "execution_count": 88,
   "metadata": {},
   "outputs": [
    {
     "name": "stdout",
     "output_type": "stream",
     "text": [
      "和集合 : {'pa', 'ag', 'is', 'ra', 'di', 'se', 'ap', 'ar', 'ph', 'gr', 'ad'}\n",
      "積集合 : {'ra', 'pa', 'ar', 'ap'}\n",
      "差集合 : {'se', 'di', 'ad', 'is'}\n",
      "seを含む\n"
     ]
    }
   ],
   "source": [
    "str1 = 'paraparaparadise'\n",
    "str2 = 'paragraph'\n",
    "X = set(n_gram(2, str1))\n",
    "Y = set(n_gram(2, str2))\n",
    "print(f'和集合 : {X | Y}')\n",
    "print(f'積集合 : {X & Y}')\n",
    "print(f'差集合 : {X - Y}')\n",
    "print('seを含む' if 'se' in X|Y else 'seを含まない')\n"
   ]
  },
  {
   "cell_type": "markdown",
   "metadata": {},
   "source": [
    "### 07. テンプレートによる文生成"
   ]
  },
  {
   "cell_type": "markdown",
   "metadata": {},
   "source": [
    "引数x, y, zを受け取り「x時のyはz」という文字列を返す関数を実装せよ．さらに，x=12, y=”気温”, z=22.4として，実行結果を確認せよ．"
   ]
  },
  {
   "cell_type": "code",
   "execution_count": 92,
   "metadata": {},
   "outputs": [],
   "source": [
    "def template(x, y, z):\n",
    "    print(f'{x}時の{y}は{z}')"
   ]
  },
  {
   "cell_type": "code",
   "execution_count": 93,
   "metadata": {},
   "outputs": [
    {
     "name": "stdout",
     "output_type": "stream",
     "text": [
      "12時の気温は22.4\n"
     ]
    }
   ],
   "source": [
    "template(12, '気温', 22.4)\n"
   ]
  },
  {
   "cell_type": "markdown",
   "metadata": {},
   "source": [
    "### 08. 暗号文"
   ]
  },
  {
   "cell_type": "markdown",
   "metadata": {},
   "source": [
    "与えられた文字列の各文字を，以下の仕様で変換する関数cipherを実装せよ．<br><br>\n",
    "・英小文字ならば(219 - 文字コード)の文字に置換<br>\n",
    "・その他の文字はそのまま出力<br><br>\n",
    "この関数を用い，英語のメッセージを暗号化・復号化せよ．"
   ]
  },
  {
   "cell_type": "code",
   "execution_count": 124,
   "metadata": {},
   "outputs": [],
   "source": [
    "def cipher(sentence):\n",
    "    return ''.join([chr(219-ord(s)) if s.islower() else s for s in sentence])"
   ]
  },
  {
   "cell_type": "code",
   "execution_count": 129,
   "metadata": {},
   "outputs": [
    {
     "name": "stdout",
     "output_type": "stream",
     "text": [
      "暗号化:Nld I mvvw z wirmp, zoxlslorx lu xlfihv, zugvi gsv svzeb ovxgfivh rmeloermt jfzmgfn nvxszmrxh.\n",
      "復号化:Now I need a drink, alcoholic of course, after the heavy lectures involving quantum mechanics.\n"
     ]
    }
   ],
   "source": [
    "sentence = cipher('Now I need a drink, alcoholic of course, after the heavy lectures involving quantum mechanics.') #問題03 円周率の例文を使用\n",
    "print(f'暗号化:{sentence}')\n",
    "print(f'復号化:{cipher(sentence)}')"
   ]
  },
  {
   "cell_type": "markdown",
   "metadata": {},
   "source": [
    "### 09. Typoglycemia"
   ]
  },
  {
   "cell_type": "markdown",
   "metadata": {},
   "source": [
    "スペースで区切られた単語列に対して，各単語の先頭と末尾の文字は残し，それ以外の文字の順序をランダムに並び替えるプログラムを作成せよ．ただし，長さが４以下の単語は並び替えないこととする．適当な英語の文（例えば”I couldn’t believe that I could actually understand what I was reading : the phenomenal power of the human mind .”）を与え，その実行結果を確認せよ．"
   ]
  },
  {
   "cell_type": "code",
   "execution_count": 150,
   "metadata": {},
   "outputs": [],
   "source": [
    "import random\n",
    "\n",
    "def shuffle_sentence(sentence):\n",
    "    if len(sentence) <= 4:\n",
    "        return sentence\n",
    "    else:\n",
    "        st = sentence[0]\n",
    "        en = sentence[1]\n",
    "        sentence = [i for i in sentence[1:len(sentence)-1]]\n",
    "        random.shuffle(sentence)\n",
    "        return f'{st}{\"\".join(sentence)}{en}'"
   ]
  },
  {
   "cell_type": "code",
   "execution_count": 155,
   "metadata": {},
   "outputs": [
    {
     "name": "stdout",
     "output_type": "stream",
     "text": [
      "I t ceu  huedme e  hu l  osr cng ahflsIal m haudatn va tnnilldodno otpiaIauywtaern tdhhlti  nwowdmaeet:ce’eebnpr \n"
     ]
    }
   ],
   "source": [
    "print(shuffle_sentence('I couldn’t believe that I could actually understand what I was reading : the phenomenal power of the human mind .'))"
   ]
  }
 ],
 "metadata": {
  "interpreter": {
   "hash": "4435a978c7b55b06a6c6ddc7c313339d2061d6557075a25c2ff8cf44d80d2cab"
  },
  "kernelspec": {
   "display_name": "Python 3.8.10 64-bit (system)",
   "language": "python",
   "name": "python3"
  },
  "language_info": {
   "codemirror_mode": {
    "name": "ipython",
    "version": 3
   },
   "file_extension": ".py",
   "mimetype": "text/x-python",
   "name": "python",
   "nbconvert_exporter": "python",
   "pygments_lexer": "ipython3",
   "version": "3.8.10"
  },
  "orig_nbformat": 4
 },
 "nbformat": 4,
 "nbformat_minor": 2
}
