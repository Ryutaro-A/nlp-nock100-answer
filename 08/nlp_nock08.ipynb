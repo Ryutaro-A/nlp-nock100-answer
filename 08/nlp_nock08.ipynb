{
 "cells": [
  {
   "cell_type": "markdown",
   "metadata": {},
   "source": [
    "# 第8章: ニューラルネット\n",
    "第6章で取り組んだニュース記事のカテゴリ分類を題材として，ニューラルネットワークでカテゴリ分類モデルを実装する．なお，この章ではPyTorch, TensorFlow, Chainerなどの機械学習プラットフォームを活用せよ．"
   ]
  },
  {
   "cell_type": "code",
   "execution_count": 5,
   "id": "0ab91039",
   "metadata": {},
   "outputs": [],
   "source": [
    "'''\n",
    "インポート群\n",
    "なるべく問題ごとにインポートしていますが，抜けがないように一応上にまとめています．\n",
    "'''\n",
    "import torch \n",
    "import pandas as pd\n",
    "from gensim.models import KeyedVectors\n",
    "import re\n",
    "from matplotlib import pyplot as plt\n",
    "import math\n",
    "import time"
   ]
  },
  {
   "cell_type": "markdown",
   "metadata": {},
   "source": [
    "### 70. 単語ベクトルの和による特徴量\n",
    "問題50で構築した学習データ，検証データ，評価データを行列・ベクトルに変換したい．"
   ]
  },
  {
   "cell_type": "code",
   "execution_count": 1,
   "metadata": {},
   "outputs": [],
   "source": [
    "from gensim.models import KeyedVectors\n",
    "\n",
    "# gensimでバイナリファイルをロード\n",
    "model = KeyedVectors.load_word2vec_format(\"./GoogleNews-vectors-negative300.bin\", binary=True)"
   ]
  },
  {
   "cell_type": "code",
   "execution_count": 5,
   "id": "d7f9859a",
   "metadata": {},
   "outputs": [],
   "source": [
    "import pandas as pd\n",
    "import re\n",
    "code_regex = re.compile('[!\"#$%&\\'\\\\\\\\()*+,-./:;<=>?@[\\\\]^_`{|}~「」〔〕“”〈〉『』【】＆＊・（）＄＃＠。、？！｀＋￥％]')\n",
    "\n",
    "def to_vec(file_name):\n",
    "    df = pd.read_csv(file_name, sep='\\t', encoding='utf-8', names=['label', 'text'])\n",
    "\n",
    "    X = []\n",
    "    Y = []\n",
    "    for label, text in zip(df['label'], df['text']):\n",
    "        words = text.split(' ')\n",
    "        x = 0\n",
    "        for word in words:\n",
    "            word = code_regex.sub('', word)\n",
    "            if word in model:\n",
    "                x += model[word]\n",
    "        X.append(x / len(words))\n",
    "\n",
    "        if label == \"b\":\n",
    "            Y.append(0)\n",
    "        elif label == \"t\":\n",
    "            Y.append(1)\n",
    "        elif label == \"e\":\n",
    "            Y.append(2)\n",
    "        elif label == \"m\":\n",
    "            Y.append(3)\n",
    "\n",
    "    return pd.DataFrame(X), pd.DataFrame(Y)\n",
    "def save_file(file_name, type_, df):\n",
    "    df.to_csv(f'{file_name}.{type_}.txt', index=False, header=False)"
   ]
  },
  {
   "cell_type": "code",
   "execution_count": 14,
   "id": "4ba02f70",
   "metadata": {},
   "outputs": [],
   "source": [
    "train_X, train_Y = to_vec('train.txt')\n",
    "valid_X, valid_Y = to_vec('valid.txt')\n",
    "test_X, test_Y = to_vec('test.txt')\n",
    "\n",
    "save_file('train', 'feature', train_X)\n",
    "save_file('train', 'label', train_Y)\n",
    "save_file('valid', 'feature', valid_X)\n",
    "save_file('valid', 'label', valid_Y)\n",
    "save_file('test', 'feature', test_X)\n",
    "save_file('test', 'label', test_Y)"
   ]
  },
  {
   "cell_type": "markdown",
   "metadata": {},
   "source": [
    "### 71. 単層ニューラルネットワークによる予測"
   ]
  },
  {
   "cell_type": "code",
   "execution_count": 15,
   "metadata": {},
   "outputs": [
    {
     "name": "stdout",
     "output_type": "stream",
     "text": [
      "Softmax(\n",
      "  dim=tensor([[-6.5108e-02, -1.0930e-03, -2.3298e-01, -1.8984e-02,  3.9312e-03,\n",
      "            5.7061e-02, -7.1257e-02,  4.3544e-02,  2.1496e-04, -3.7109e-02,\n",
      "            5.2183e-02,  1.8067e-05, -3.0151e-02, -7.9308e-02, -2.7266e-01,\n",
      "           -4.0155e-02,  2.1576e-01, -4.0615e-02, -2.7272e-02,  2.3310e-04,\n",
      "           -1.2913e-01,  8.3592e-03,  2.8015e-02,  1.6783e-02, -3.2330e-02,\n",
      "            1.1479e-02, -6.8877e-02,  6.4450e-02, -2.6369e-03, -1.9167e-02,\n",
      "           -1.0286e-02, -9.5810e-02, -4.3772e-03,  3.2742e-01,  4.0957e-02,\n",
      "            2.6790e-02, -1.1797e-01,  1.6925e-03,  6.1375e-02,  7.0242e-02,\n",
      "            2.6556e-02,  6.2486e-02,  2.6346e-02,  1.2383e-01,  1.5918e-02,\n",
      "           -2.9260e-02, -1.2560e-01, -1.0451e-01, -1.0441e-01,  8.7027e-02,\n",
      "            1.0720e-01,  4.3246e-02, -2.9030e-02,  3.2734e-02,  6.8453e-02,\n",
      "           -8.3634e-03,  2.1616e-02,  1.4139e-01,  2.2072e-02,  1.4379e-02,\n",
      "           -7.1021e-02, -3.2148e-02, -3.2695e-01,  1.0742e-02, -7.6818e-03,\n",
      "           -2.8433e-02, -1.1461e-01,  3.8168e-03,  5.6038e-02,  6.1525e-02,\n",
      "           -5.5253e-02, -1.6732e-03, -9.8517e-04, -4.9697e-02,  1.9923e-01,\n",
      "            2.6704e-02, -1.9377e-02, -1.4929e-02,  5.7912e-02,  1.0711e-01,\n",
      "            3.3322e-02,  1.2203e-01, -6.9916e-02,  1.3596e-01, -1.6837e-01,\n",
      "            7.2710e-02, -1.5630e-01,  2.7663e-01, -2.4761e-02,  2.0595e-02,\n",
      "           -5.2147e-02,  1.1419e-01,  1.6061e-02, -5.5603e-02,  7.9363e-03,\n",
      "           -8.1934e-02,  1.5173e-01, -8.8469e-03,  1.0909e-02, -1.2495e-01,\n",
      "           -1.1196e-01,  1.8284e-01,  2.8645e-02,  1.3660e-01,  1.1553e-01,\n",
      "           -2.5201e-02, -1.1441e-02,  1.8344e-04,  1.4142e-01, -5.9275e-02,\n",
      "            1.8678e-02,  7.7907e-03, -6.8791e-02,  7.4628e-03,  7.7390e-02,\n",
      "            1.0930e-01,  2.9459e-02, -1.7640e-02, -4.9196e-02, -3.3300e-02,\n",
      "           -7.3725e-02, -2.1710e-03, -1.1402e-02,  2.6365e-02, -2.0594e-02,\n",
      "            2.0718e-01,  8.0011e-02,  7.6464e-02, -1.4916e-02,  3.4069e-02,\n",
      "           -4.8949e-02,  9.6018e-02, -2.6887e-03,  5.1607e-02,  4.2749e-03,\n",
      "           -7.9970e-02, -1.0323e-01, -3.0879e-03, -4.4327e-02,  5.3590e-03,\n",
      "           -1.1501e-02,  2.2646e-03,  1.1432e-01, -8.0374e-02, -2.9519e-02,\n",
      "           -1.0039e-01,  2.5269e-02, -4.1173e-02, -9.3360e-03, -2.6218e-02,\n",
      "            1.7696e-01,  2.6373e-01, -8.6695e-03,  2.0048e-02, -6.1307e-02,\n",
      "            2.2674e-02,  3.3437e-02,  7.6231e-02,  1.5957e-02,  7.3242e-02,\n",
      "           -2.9608e-02,  1.9761e-04,  8.3278e-02,  1.9021e-02,  6.7770e-03,\n",
      "           -5.3495e-02,  9.3128e-02, -9.5819e-02,  1.5559e-02,  2.2140e-02,\n",
      "            1.6314e-01,  5.4830e-02,  2.4284e-03, -4.4368e-02, -1.3243e-01,\n",
      "            3.5974e-02,  1.1515e-01,  9.3737e-02,  3.8408e-02, -2.5848e-02,\n",
      "           -1.2903e-01,  1.3187e-02,  7.4300e-02, -4.7109e-03, -6.4830e-02,\n",
      "            3.9269e-04,  2.7141e-01,  1.8628e-02,  1.8952e-02, -2.1173e-04,\n",
      "            2.8651e-01, -2.0821e-03, -8.1207e-02, -5.0538e-03,  3.9699e-02,\n",
      "            2.1928e-01,  2.1157e-02,  9.2357e-02, -1.3554e-01, -9.5212e-02,\n",
      "           -5.9822e-02, -2.0743e-03,  1.9726e-01,  4.6333e-02, -3.9538e-04,\n",
      "            7.2451e-02,  3.1190e-01,  1.2383e-01,  7.7210e-03, -6.8923e-02,\n",
      "           -3.1348e-02,  7.3598e-03, -1.6155e-02,  6.9692e-02, -1.0637e-01,\n",
      "            8.1899e-02, -2.8240e-03,  3.5508e-02,  6.7396e-02, -1.4541e-01,\n",
      "           -1.3512e-02, -1.9583e-02, -8.0965e-02, -1.6932e-01, -1.7959e-02,\n",
      "           -1.2808e-01, -4.3021e-02,  2.4650e-02, -2.5623e-02,  7.1518e-02,\n",
      "            1.5156e-04,  7.8711e-02, -9.9720e-02,  5.3510e-02,  8.1385e-02,\n",
      "           -6.4594e-03, -2.8308e-01,  3.1441e-04,  1.2307e-01, -7.1041e-02,\n",
      "           -1.1853e-01, -3.8154e-02, -1.8229e-01,  2.7671e-02, -6.3030e-02,\n",
      "            2.6305e-02, -1.0937e-02,  2.2099e-01, -5.2652e-02,  7.7052e-04,\n",
      "            8.4691e-02,  5.0693e-03,  2.3663e-03, -9.9873e-02, -2.3418e-01,\n",
      "            7.6565e-04,  3.4575e-03, -8.9387e-02,  3.3105e-02,  6.3300e-03,\n",
      "           -4.4073e-02, -2.0985e-02, -1.7098e-01, -4.5599e-02, -8.5837e-02,\n",
      "           -5.9948e-02,  7.5256e-02, -1.2210e-01,  1.5378e-03,  5.6458e-02,\n",
      "           -2.2564e-03,  1.6484e-01,  1.9324e-03, -3.7539e-02, -9.3228e-02,\n",
      "            2.8214e-02, -2.8531e-01, -3.5386e-02, -3.6631e-02,  1.6369e-01,\n",
      "           -5.2104e-03,  1.2473e-02, -1.3242e-02,  1.2253e-01,  9.0213e-02,\n",
      "           -8.9109e-02, -1.0002e-02, -9.3188e-03, -3.4636e-03, -5.4689e-02,\n",
      "            1.6456e-01,  5.2332e-03, -3.7744e-01,  5.7660e-02, -8.1320e-03,\n",
      "           -1.3648e-02, -2.1096e-02,  5.3961e-04, -6.7956e-02, -5.4975e-02]])\n",
      ") Softmax(\n",
      "  dim=tensor([[-0.0651, -0.0011, -0.2330,  ...,  0.0005, -0.0680, -0.0550],\n",
      "          [-0.0005,  0.0182,  0.0702,  ...,  0.0009,  0.0183,  0.0281],\n",
      "          [-0.0847,  0.0005, -0.1454,  ...,  0.0002, -0.0525,  0.0095],\n",
      "          [-0.0350, -0.0187, -0.0697,  ...,  0.0005,  0.0757,  0.0766]])\n",
      ")\n"
     ]
    }
   ],
   "source": [
    "import torch\n",
    "import pandas as pd\n",
    "\n",
    "train_feature_df = pd.read_csv('train.feature.txt', sep=',', encoding='utf-8', header=None)\n",
    "train_label_df = pd.read_csv('train.label.txt', encoding='utf-8', names=['label'])\n",
    "train_X = torch.FloatTensor(train_feature_df.values)\n",
    "train_Y = torch.tensor(train_label_df['label'].T.values)\n",
    "\n",
    "W = torch.randn(1, 300)\n",
    "\n",
    "# Softmaxを求める\n",
    "y_ = torch.nn.Softmax(train_X[0]*W)\n",
    "Y_ = torch.nn.Softmax(train_X[:4]*W)\n",
    "print(f'{y_} {Y_}')"
   ]
  },
  {
   "cell_type": "markdown",
   "metadata": {},
   "source": [
    "### 72. 損失と勾配の計算\n",
    "学習データの事例x1と事例集合x1,x2,x3,x4に対して，クロスエントロピー損失と，行列Wに対する勾配を計算せよ．なお，ある事例xiに対して損失は次式で計算される．\n",
    "\n",
    "li=−log[事例xiがyiに分類される確率]<br><br>\n",
    "ただし，事例集合に対するクロスエントロピー損失は，その集合に含まれる各事例の損失の平均とする．"
   ]
  },
  {
   "cell_type": "code",
   "execution_count": 44,
   "metadata": {},
   "outputs": [
    {
     "name": "stdout",
     "output_type": "stream",
     "text": [
      "Loss(x1): 5.712994575500488, Loss(x1-x4): 14.131285071372986,\n",
      "grad(x1) : tensor([[ 3.0382e-04, -5.6930e-06,  1.3005e-01, -7.2544e-05, -2.5967e-04,\n",
      "          4.7762e-04,  2.1195e-04, -3.7418e-04,  8.9838e-06,  6.7767e-05,\n",
      "          1.9764e-04,  8.3711e-05, -1.3408e-04,  3.3188e-04, -4.7721e-04,\n",
      "         -1.7866e-04,  3.6263e-04,  1.1378e-04, -3.6162e-04, -2.4501e-06,\n",
      "          2.9896e-04,  2.6390e-04,  1.4036e-04,  6.9766e-05, -2.1968e-04,\n",
      "          5.3934e-05, -1.4734e-04,  1.4000e-04, -2.9719e-05, -7.0321e-05,\n",
      "         -1.0953e-04, -2.5410e-04, -4.4005e-05, -4.0932e-04,  1.5287e-04,\n",
      "         -2.0772e-04,  2.5252e-04, -3.1092e-05, -3.4634e-04,  2.1287e-04,\n",
      "         -1.0484e-04, -2.3189e-04, -1.3109e-04,  4.2663e-04,  8.2473e-05,\n",
      "         -1.1767e-04, -2.8007e-04,  3.3510e-04,  8.3498e-04,  3.9356e-04,\n",
      "         -3.4812e-04,  2.3851e-04, -3.3512e-04,  2.4321e-04,  3.2736e-04,\n",
      "          1.9528e-04, -4.0269e-04, -3.0018e-04, -7.4973e-05, -1.2845e-04,\n",
      "          2.6961e-04, -8.7123e-05, -5.7736e-04,  7.0110e-05,  1.6355e-05,\n",
      "          2.2415e-04, -2.2081e-04,  8.4278e-04,  1.0330e-04, -6.8967e-05,\n",
      "          1.7098e-04, -1.7076e-05, -6.5145e-05,  9.7778e-04, -4.3259e-04,\n",
      "         -8.7702e-05,  2.7424e-04,  2.2392e-04,  1.0276e-04,  6.8898e-04,\n",
      "         -2.7321e-04, -2.7934e-04, -1.8586e-04, -6.1169e-04, -4.0808e-04,\n",
      "         -1.1934e-04, -3.6091e-04,  7.3589e-04,  4.0651e-04, -1.6236e-04,\n",
      "         -1.0752e-04,  1.9641e-04, -8.2898e-05, -2.6911e-04, -3.0484e-04,\n",
      "          1.8012e-04,  3.3554e-04,  1.4467e-05, -1.5215e-04,  1.8970e-04,\n",
      "         -3.8109e-04, -2.9127e-04, -1.1170e-04, -4.7296e-04,  4.2020e-04,\n",
      "         -5.3492e-05, -2.2490e-04, -2.0467e-06,  2.4507e-04, -1.4302e-04,\n",
      "         -4.6597e-04,  8.8143e-05,  2.6204e-04, -3.0605e-04,  2.9525e-04,\n",
      "          4.5407e-04, -1.2675e-04,  7.8821e-05, -1.0492e-04,  5.8258e-05,\n",
      "          2.8078e-04, -8.5038e-06,  9.4464e-05, -7.5401e-05,  4.9402e-05,\n",
      "          4.7589e-04, -3.8188e-04,  3.1817e-04, -8.4742e-05,  1.9984e-04,\n",
      "         -1.7908e-04, -4.4173e-04,  5.3980e-05,  3.6039e-04,  2.5974e-04,\n",
      "         -2.9120e-04,  2.3666e-04, -2.5734e-05,  2.7319e-04, -2.1222e-05,\n",
      "          2.9492e-04, -9.4857e-06, -6.3260e-04, -4.8356e-04, -3.3999e-04,\n",
      "         -3.0525e-04,  5.2628e-05,  2.1296e-04,  2.6996e-04, -2.6427e-04,\n",
      "          3.7009e-04, -3.7842e-04,  3.6988e-04, -3.0097e-04,  1.8137e-04,\n",
      "         -4.2658e-05, -2.0246e-04, -5.7478e-04, -9.7909e-05, -4.0100e-04,\n",
      "          4.7527e-05,  9.4588e-05,  3.5313e-04,  4.7574e-04,  3.7944e-05,\n",
      "         -2.4825e-04,  1.7096e-04, -4.9044e-04, -1.5407e-04,  5.2968e-04,\n",
      "         -5.2689e-04, -1.4719e-04,  3.8923e-05, -3.1536e-04, -6.2059e-04,\n",
      "          9.3020e-05,  3.6831e-04, -4.9276e-04, -2.3179e-04, -4.4223e-04,\n",
      "         -5.1023e-04, -1.3064e-04,  1.6316e-04, -2.1246e-04, -4.9934e-04,\n",
      "          2.1952e-04, -6.7294e-04, -2.5163e-04, -1.1364e-04, -3.9658e-06,\n",
      "         -4.2802e-04,  5.7481e-06,  1.1474e-04, -5.2209e-05, -2.1707e-04,\n",
      "          4.6626e-04, -1.7582e-04, -3.5011e-04, -2.8024e-04, -4.7012e-04,\n",
      "          2.2019e-04, -8.2365e-05, -5.7987e-04,  3.9995e-04, -2.5204e-06,\n",
      "          1.6994e-04, -5.9657e-04,  2.5338e-04,  2.7585e-05, -2.0327e-04,\n",
      "         -6.7952e-04,  5.1469e-05,  2.0183e-04,  2.5504e-04, -4.3372e-04,\n",
      "          1.9557e-04,  9.9018e-05,  2.5340e-04, -1.0002e-04, -2.7300e-04,\n",
      "         -8.5666e-05,  2.0810e-04, -2.7109e-04, -4.4013e-04,  1.5357e-04,\n",
      "         -1.8772e-04,  1.1635e-04, -1.0758e-04, -2.3418e-04, -2.2285e-04,\n",
      "         -1.9069e-05, -1.9172e-04,  2.5724e-04,  1.5413e-04,  3.5076e-04,\n",
      "         -8.9651e-05,  6.9068e-04,  3.3022e-05, -1.9208e-04,  2.7789e-04,\n",
      "          1.7595e-04, -1.8814e-04,  4.0881e-04, -2.2469e-04,  5.5938e-04,\n",
      "          1.6115e-04, -3.4930e-04,  6.2684e-04, -1.7390e-04,  3.3956e-06,\n",
      "         -2.8293e-04, -4.5465e-05,  2.5199e-05,  4.2793e-04,  6.9205e-04,\n",
      "         -2.0203e-05, -2.9330e-05, -3.2523e-04, -2.2140e-04,  2.3060e-04,\n",
      "         -4.7656e-04,  3.9053e-04, -3.1111e-04,  2.6607e-04,  2.7162e-04,\n",
      "          5.8646e-04, -8.2180e-04, -2.0733e-04,  4.6737e-05, -1.5589e-04,\n",
      "          2.5919e-05,  2.8679e-04,  6.1383e-04,  4.4308e-04,  1.7594e-04,\n",
      "          4.4979e-05,  6.4903e-04, -2.6677e-04,  7.4262e-05,  4.1157e-04,\n",
      "          1.5515e-04, -1.3310e-04, -9.2627e-05,  4.7540e-04,  6.7055e-04,\n",
      "          4.1139e-04, -6.5272e-04,  5.3730e-05,  6.6669e-05,  4.5844e-04,\n",
      "         -3.5564e-04,  1.2275e-04, -7.2478e-04,  1.8767e-04, -2.7918e-04,\n",
      "         -7.4032e-04, -6.6470e-05, -6.6827e-05,  2.1440e-04,  2.2236e-04]]),\n",
      "grad(x1-x4) : tensor([[-1.1683e-01,  2.9449e-02,  9.0417e-02, -2.0409e-04, -4.5648e-04,\n",
      "          5.1190e-04,  2.1473e-05, -5.5090e-04,  8.9422e-04,  5.8009e-04,\n",
      "          4.2317e-05,  1.4588e-04, -9.8034e-05,  3.2657e-04, -7.9030e-04,\n",
      "         -7.0392e-06,  1.0304e-03,  5.9403e-04, -4.6673e-04, -5.4360e-05,\n",
      "          7.5180e-04,  1.2653e-03,  9.3511e-04,  6.4899e-04, -4.0795e-04,\n",
      "         -9.8612e-05, -8.5104e-04,  5.6957e-04,  3.8137e-04,  4.4698e-05,\n",
      "         -4.0831e-04, -7.3522e-04, -1.9230e-04, -1.4441e-03,  3.2605e-04,\n",
      "         -2.4579e-04,  1.0395e-03, -1.3542e-04, -4.5828e-04,  8.8141e-04,\n",
      "          3.1508e-04, -1.2636e-03,  3.0248e-04,  1.0361e-03, -3.4923e-04,\n",
      "         -5.1268e-04, -1.5345e-03, -8.5801e-05,  1.0169e-03,  1.0695e-03,\n",
      "         -2.4835e-03,  8.2050e-04,  7.1256e-05,  3.6727e-04,  5.3798e-04,\n",
      "          1.3536e-03, -1.2806e-03, -1.5066e-03,  1.8140e-04, -6.8425e-04,\n",
      "          6.8691e-04,  7.2718e-04, -1.4842e-03, -2.6043e-04, -2.1778e-04,\n",
      "         -4.4320e-04, -4.7701e-04,  1.0534e-03,  1.7274e-04,  7.7695e-04,\n",
      "          4.8213e-04, -9.2910e-04, -2.4633e-05,  9.4970e-04, -9.2313e-04,\n",
      "         -5.7345e-04,  9.0409e-04,  5.2718e-04,  3.5193e-04,  1.3848e-03,\n",
      "          2.0717e-05, -1.1134e-03, -3.0542e-04, -8.5770e-04, -7.8598e-05,\n",
      "         -1.2336e-03, -7.1270e-04,  2.1400e-03,  1.7639e-03, -3.0258e-04,\n",
      "         -3.1219e-04, -2.8958e-04, -4.7013e-04,  2.7635e-04, -4.9004e-04,\n",
      "          1.2303e-04,  9.8288e-04,  1.2852e-04,  2.1144e-04,  5.3935e-04,\n",
      "         -8.4754e-04, -1.4661e-03, -1.7335e-04, -6.8988e-04,  8.1285e-04,\n",
      "          1.3567e-04, -1.0283e-03, -3.4498e-04, -2.7184e-04, -2.9646e-04,\n",
      "         -6.6050e-04,  3.9026e-04,  7.4241e-04, -1.1198e-03,  7.8069e-04,\n",
      "          7.4698e-04, -2.5594e-04,  7.7468e-05,  7.1576e-04, -8.2710e-05,\n",
      "          4.6372e-04,  6.2252e-05, -1.1404e-03, -2.5154e-04, -4.0829e-06,\n",
      "         -6.0914e-05, -9.4153e-04,  9.4908e-04, -4.6045e-04,  3.6172e-04,\n",
      "         -2.6055e-04, -1.0167e-03, -6.1128e-04,  3.8810e-04, -3.4616e-05,\n",
      "         -5.1203e-04,  3.2597e-05, -3.6580e-04,  2.4864e-04,  7.8026e-04,\n",
      "          1.0433e-03, -3.1209e-05, -6.9374e-04, -1.3428e-03, -7.2305e-05,\n",
      "         -5.5128e-04,  1.0949e-03, -5.1005e-05,  3.4120e-04, -7.5843e-04,\n",
      "          5.6471e-04, -4.8636e-04,  9.1220e-04, -4.9429e-04,  4.8253e-05,\n",
      "         -8.2783e-04, -1.0105e-03, -9.2324e-04, -3.8996e-04, -9.9545e-04,\n",
      "         -2.0078e-04,  2.8454e-04,  2.0615e-03,  4.3997e-04,  3.0018e-04,\n",
      "         -2.2709e-04,  8.9118e-04, -7.0178e-05, -4.0279e-04,  7.3165e-04,\n",
      "         -9.2133e-04, -3.1163e-05,  3.2428e-04, -1.2328e-03, -7.3454e-04,\n",
      "          2.0546e-04,  7.1222e-04, -1.5410e-03, -5.3175e-04, -8.1825e-05,\n",
      "         -1.2330e-03, -1.0213e-03,  4.9335e-04,  1.4795e-04,  6.7835e-05,\n",
      "          2.2946e-04, -2.3129e-04, -1.4422e-04,  1.0291e-04,  5.6291e-05,\n",
      "         -5.7033e-04,  1.4505e-04,  1.2332e-04,  8.2798e-05, -1.1674e-03,\n",
      "          6.8501e-04, -2.7121e-04, -1.3222e-03, -3.2508e-04, -2.4084e-03,\n",
      "         -5.3095e-04, -2.2666e-04, -6.1527e-04,  3.0418e-04,  1.0999e-04,\n",
      "          4.1574e-04, -1.6360e-03,  4.3649e-04, -1.0230e-03, -6.9387e-04,\n",
      "         -1.7229e-03,  1.9202e-04,  6.7593e-05,  1.1506e-03, -9.2791e-04,\n",
      "          4.8411e-04,  2.3004e-04,  5.3706e-04, -3.1322e-04, -6.7975e-04,\n",
      "         -4.6507e-04,  1.4367e-03, -1.2897e-03, -6.1980e-04, -2.6326e-04,\n",
      "         -2.1658e-04,  5.5470e-04,  2.4947e-04,  1.3747e-04, -6.2890e-04,\n",
      "         -3.5855e-05, -3.8522e-04,  4.5020e-04,  4.8092e-04,  2.7463e-04,\n",
      "         -9.1017e-04,  9.6735e-04, -1.8055e-04,  3.3465e-04,  5.1989e-04,\n",
      "          1.0511e-03, -2.9677e-04,  5.4772e-04, -6.4886e-04,  7.1634e-04,\n",
      "          3.6020e-04, -8.5092e-04,  2.4319e-03, -2.4253e-04, -6.2287e-05,\n",
      "         -8.4517e-04,  5.2053e-04, -3.6513e-04,  1.3001e-03,  7.6398e-04,\n",
      "          2.0965e-05, -2.3491e-04, -3.0615e-04, -9.9047e-05, -1.8754e-04,\n",
      "          3.1142e-04,  1.0494e-03, -7.9706e-04,  1.2027e-03,  6.1981e-04,\n",
      "          1.5414e-03, -1.5412e-03, -4.8589e-04, -3.9307e-04, -1.4264e-04,\n",
      "          4.1073e-05,  1.7187e-03,  8.2112e-04,  3.1273e-04,  8.7100e-04,\n",
      "         -8.6850e-05,  6.2114e-04, -8.0197e-04, -2.6452e-04,  1.4805e-04,\n",
      "         -5.8505e-04,  5.2473e-04, -2.9015e-04,  1.1664e-03,  1.0134e-03,\n",
      "          2.8945e-04, -1.1627e-03,  5.3910e-04, -3.6087e-04,  1.5558e-03,\n",
      "         -5.7477e-04,  5.6600e-04, -1.0943e-03,  8.5923e-04, -6.0423e-04,\n",
      "         -1.3215e-03, -2.0768e-04, -2.7290e-04,  8.3139e-05, -1.6758e-04]])\n"
     ]
    }
   ],
   "source": [
    "import torch \n",
    "import pandas as pd\n",
    "\n",
    "train_feature_df = pd.read_csv('train.feature.txt', sep=',', encoding='utf-8', header=None)\n",
    "train_label_df = pd.read_csv('train.label.txt', encoding='utf-8', names=['label'])\n",
    "train_X = torch.FloatTensor(train_feature_df.values)\n",
    "train_Y = torch.tensor(train_label_df['label'].values)\n",
    "\n",
    "# クロスエントロピーをインスタンス化\n",
    "criterion = torch.nn.CrossEntropyLoss()\n",
    "\n",
    "# x1に対する損失と勾配を求める\n",
    "W_x1 = torch.randn(1, 300, requires_grad=True)\n",
    "y_ = torch.nn.functional.log_softmax(train_X[0]*W_x1, dim=1)\n",
    "loss_x1_ = criterion(y_, train_Y[0].unsqueeze(0))\n",
    "loss_x1 = loss_x1_.item()\n",
    "loss_x1_.backward()\n",
    "\n",
    "# x1-x4に対する損失と勾配を求める\n",
    "W_ave = torch.randn(1, 300, requires_grad=True)\n",
    "loss_ave = 0\n",
    "loss_ave_ = 0\n",
    "for i in range(4):\n",
    "    y_ = torch.nn.functional.log_softmax(train_X[i]*W_ave, dim=1)\n",
    "    loss_ave_ += criterion(y_, train_Y[i].unsqueeze(0))\n",
    "    loss_ave += loss_ave_.item()\n",
    "loss_ave = loss_ave / 4\n",
    "loss_ave_.backward()\n",
    "\n",
    "print(f'Loss(x1): {loss_x1}, Loss(x1-x4): {loss_ave},\\ngrad(x1) : {W_x1.grad},\\ngrad(x1-x4) : {W_ave.grad}')"
   ]
  },
  {
   "cell_type": "markdown",
   "metadata": {},
   "source": [
    "## 73. 確率的勾配降下法による学習\n",
    "確率的勾配降下法（SGD: Stochastic Gradient Descent）を用いて，行列Wを学習せよ．なお，学習は適当な基準で終了させればよい（例えば「100エポックで終了」など）．"
   ]
  },
  {
   "cell_type": "code",
   "execution_count": 23,
   "metadata": {},
   "outputs": [],
   "source": [
    "import torch\n",
    "\n",
    "class Net(torch.nn.Module):\n",
    "    def __init__(self) -> None:\n",
    "        super(Net, self).__init__()\n",
    "        self.fc1 = torch.nn.Linear(300, 4)\n",
    "\n",
    "    def forward(self, x):\n",
    "        return self.fc1(x)\n",
    "\n",
    "net = Net()"
   ]
  },
  {
   "cell_type": "code",
   "execution_count": 29,
   "metadata": {},
   "outputs": [
    {
     "name": "stdout",
     "output_type": "stream",
     "text": [
      "epoch:0, train_loss:0.5063663516406235\n",
      "epoch:1, train_loss:0.44015545021316377\n",
      "epoch:2, train_loss:0.40432840928974007\n",
      "epoch:3, train_loss:0.3813748543081548\n",
      "epoch:4, train_loss:0.364848788007303\n",
      "epoch:5, train_loss:0.352369654053698\n",
      "epoch:6, train_loss:0.34280009475491396\n",
      "epoch:7, train_loss:0.33509339031619184\n",
      "epoch:8, train_loss:0.3284113542828519\n",
      "epoch:9, train_loss:0.3227017670130452\n"
     ]
    }
   ],
   "source": [
    "train_Dataset = torch.utils.data.TensorDataset(train_X, train_Y)\n",
    "train_DataLoader = torch.utils.data.DataLoader(\n",
    "    dataset=train_Dataset, \n",
    "    num_workers=2,\n",
    "    shuffle=True\n",
    "    )\n",
    "criterion = torch.nn.CrossEntropyLoss()\n",
    "optimizer = torch.optim.SGD(net.parameters(), lr=0.01)\n",
    "\n",
    "for epoch in range(10):\n",
    "    train_loss = 0\n",
    "    for x, y in train_DataLoader:\n",
    "        y_pred = net(x)\n",
    "        loss = criterion(y_pred, y) # 推論値と正解データの誤差を計算\n",
    "        train_loss += loss.item()\n",
    "        optimizer.zero_grad()\n",
    "        loss.backward()\n",
    "        optimizer.step()\n",
    "    print(f'epoch:{epoch}, train_loss:{train_loss / len(train_DataLoader)}')"
   ]
  },
  {
   "cell_type": "markdown",
   "metadata": {},
   "source": [
    "### 74. 正解率の計測\n",
    "問題73で求めた行列を用いて学習データおよび評価データの事例を分類したとき，その正解率をそれぞれ求めよ．"
   ]
  },
  {
   "cell_type": "code",
   "execution_count": 46,
   "id": "261a406c",
   "metadata": {},
   "outputs": [],
   "source": [
    "import torch\n",
    "\n",
    "class Net(torch.nn.Module):\n",
    "    def __init__(self) -> None:\n",
    "        super(Net, self).__init__()\n",
    "        self.fc1 = torch.nn.Linear(300, 4)\n",
    "\n",
    "    def forward(self, x):\n",
    "        return self.fc1(x)\n",
    "\n",
    "net = Net()"
   ]
  },
  {
   "cell_type": "code",
   "execution_count": 47,
   "id": "0821131f",
   "metadata": {},
   "outputs": [
    {
     "name": "stdout",
     "output_type": "stream",
     "text": [
      "学習データでの正解率:0.533920539730135\n",
      "評価データでの正解率:0.512743628185907\n"
     ]
    }
   ],
   "source": [
    "import torch\n",
    "\n",
    "# 分類\n",
    "def categorize(DataLoader):\n",
    "    correct = 0.0\n",
    "    for x, y in DataLoader:\n",
    "        y_pred = net(x)\n",
    "        correct += 1 if torch.argmax(y_pred).item()==y.item() else 0\n",
    "    return correct / float(len(DataLoader))\n",
    "\n",
    "# 学習データでの計測\n",
    "train_ac = categorize(train_DataLoader)\n",
    "\n",
    "# 評価データでの計測\n",
    "test_feature_df = pd.read_csv('test.feature.txt', sep=',', encoding='utf-8', header=None)\n",
    "test_label_df = pd.read_csv('test.label.txt', encoding='utf-8', names=['label'])\n",
    "test_Dataset = torch.utils.data.TensorDataset(torch.FloatTensor(test_feature_df.values), torch.tensor(test_label_df['label'].values))\n",
    "test_DataLoader = torch.utils.data.DataLoader(\n",
    "    dataset=test_Dataset,\n",
    "    shuffle=False,\n",
    "    num_workers=2\n",
    ")\n",
    "test_acc = categorize(test_DataLoader)\n",
    "\n",
    "print(f'学習データでの正解率:{train_ac}\\n評価データでの正解率:{test_acc}')"
   ]
  },
  {
   "cell_type": "markdown",
   "metadata": {},
   "source": [
    "### 75. 損失と正解率のプロット\n",
    "問題73のコードを改変し，各エポックのパラメータ更新が完了するたびに，訓練データでの損失，正解率，検証データでの損失，正解率をグラフにプロットし，学習の進捗状況を確認できるようにせよ．"
   ]
  },
  {
   "cell_type": "code",
   "execution_count": 48,
   "id": "ebb10eaa",
   "metadata": {},
   "outputs": [],
   "source": [
    "import torch\n",
    "\n",
    "class Net(torch.nn.Module):\n",
    "    def __init__(self) -> None:\n",
    "        super(Net, self).__init__()\n",
    "        self.fc1 = torch.nn.Linear(300, 4)\n",
    "\n",
    "    def forward(self, x):\n",
    "        return self.fc1(x)\n",
    "\n",
    "net = Net()"
   ]
  },
  {
   "cell_type": "code",
   "execution_count": 49,
   "metadata": {},
   "outputs": [],
   "source": [
    "from matplotlib import pyplot as plt\n",
    "from tqdm import tqdm\n",
    "import torch\n",
    "\n",
    "# 学習実行\n",
    "def run(DataLoader):\n",
    "    criterion = torch.nn.CrossEntropyLoss()\n",
    "    optimizer = torch.optim.SGD(net.parameters(), lr=0.01)\n",
    "    losses = []\n",
    "    accs = []\n",
    "    for epoch in tqdm(range(10)):\n",
    "        loss_ = 0\n",
    "        acc_ = 0\n",
    "        for x, y in DataLoader:\n",
    "            y_pred = net(x)\n",
    "            loss = criterion(y_pred, y) # 推論値と正解データの誤差を計算\n",
    "            loss_ += loss.item()\n",
    "\n",
    "            acc_ += 1 if torch.argmax(y_pred).item()==y.item() else 0\n",
    "\n",
    "            optimizer.zero_grad()\n",
    "            loss.backward()\n",
    "            optimizer.step()\n",
    "\n",
    "        losses.append(loss_ / len(DataLoader))\n",
    "        accs.append(acc_ / len(DataLoader))\n",
    "\n",
    "    return losses, accs"
   ]
  },
  {
   "cell_type": "code",
   "execution_count": 50,
   "metadata": {},
   "outputs": [
    {
     "name": "stderr",
     "output_type": "stream",
     "text": [
      "100%|██████████| 10/10 [00:48<00:00,  4.84s/it]\n",
      "100%|██████████| 10/10 [00:15<00:00,  1.57s/it]\n"
     ]
    },
    {
     "data": {
      "image/png": "[encoded data removed]",
      "text/plain": [
       "<Figure size 432x288 with 2 Axes>"
      ]
     },
     "metadata": {
      "needs_background": "light"
     },
     "output_type": "display_data"
    }
   ],
   "source": [
    "# 検証データでの計測\n",
    "valid_feature_df = pd.read_csv('valid.feature.txt', sep=',', encoding='utf-8', header=None)\n",
    "valid_label_df = pd.read_csv('valid.label.txt', encoding='utf-8', names=['label'])\n",
    "valid_Dataset = torch.utils.data.TensorDataset(torch.FloatTensor(valid_feature_df.values), torch.tensor(valid_label_df['label'].values))\n",
    "valid_DataLoader = torch.utils.data.DataLoader(\n",
    "    dataset=valid_Dataset,\n",
    "    shuffle=False,\n",
    "    num_workers=2\n",
    ")\n",
    "\n",
    "# サブプロットを定義\n",
    "fig = plt.figure()\n",
    "g = fig.subplots(2)\n",
    "epochs = torch.tensor(range(10)).tolist()\n",
    "\n",
    "# 学習の実行\n",
    "train_loss, train_acc = run(train_DataLoader)\n",
    "valid_loss, valid_acc = run(valid_DataLoader)\n",
    "\n",
    "# 損失をプロット\n",
    "g[0].plot(epochs, train_loss, label='train')\n",
    "g[0].plot(epochs, valid_loss, label='valid')\n",
    "g[0].set_xlabel('epoch')\n",
    "g[0].set_ylabel('Loss')\n",
    "g[0].set_title('Loss')\n",
    "hans, labs = g[0].get_legend_handles_labels()\n",
    "g[0].legend(handles=hans, labels=labs)\n",
    "\n",
    "# 正解率をプロット\n",
    "g[1].plot(epochs, train_acc, label='train')\n",
    "g[1].plot(epochs, valid_acc, label='valid')\n",
    "g[1].set_xlabel('epoch')\n",
    "g[1].set_ylabel('Accuracy')\n",
    "g[1].set_title('Accuracy')\n",
    "hans, labs = g[1].get_legend_handles_labels()\n",
    "g[1].legend(handles=hans, labels=labs)\n",
    "\n",
    "fig.tight_layout()\n",
    "plt.show()"
   ]
  },
  {
   "cell_type": "markdown",
   "metadata": {},
   "source": [
    "### 76. チェックポイント\n",
    "問題75のコードを改変し，各エポックのパラメータ更新が完了するたびに，チェックポイント（学習途中のパラメータ（重み行列など）の値や最適化アルゴリズムの内部状態）をファイルに書き出せ．"
   ]
  },
  {
   "cell_type": "code",
   "execution_count": 51,
   "id": "0ab95eb6",
   "metadata": {},
   "outputs": [],
   "source": [
    "import torch\n",
    "\n",
    "class Net(torch.nn.Module):\n",
    "    def __init__(self) -> None:\n",
    "        super(Net, self).__init__()\n",
    "        self.fc1 = torch.nn.Linear(300, 4)\n",
    "\n",
    "    def forward(self, x):\n",
    "        return self.fc1(x)\n",
    "\n",
    "net = Net()"
   ]
  },
  {
   "cell_type": "code",
   "execution_count": 55,
   "metadata": {},
   "outputs": [],
   "source": [
    "# 問題75のコードをチェックポイントを作成するように改良\n",
    "def run_check_point(DataLoader):\n",
    "    criterion = torch.nn.CrossEntropyLoss()\n",
    "    optimizer = torch.optim.SGD(net.parameters(), lr=0.01)\n",
    " \n",
    "    for epoch in range(10):\n",
    "        path = 'check_point_epoch_{0}.pth'.format(epoch)\n",
    "        loss_ = 0\n",
    "        acc_ = 0\n",
    "        for x, y in DataLoader:\n",
    "            y_pred = net(x)\n",
    "\n",
    "            loss = criterion(y_pred, y) # 推論値と正解データの誤差を計算\n",
    "            loss_ += loss.item()\n",
    "\n",
    "            acc_ += 1 if torch.argmax(y_pred).item()==y.item() else 0\n",
    "\n",
    "            optimizer.zero_grad()\n",
    "            loss.backward()\n",
    "            optimizer.step()\n",
    "\n",
    "        print(f'epoch:{epoch}\\tloss:{loss_ / len(DataLoader)}')\n",
    "\n",
    "        torch.save({'model_state_dict':net.state_dict(), 'optimizer_state_sict':optimizer.state_dict()}, path)"
   ]
  },
  {
   "cell_type": "code",
   "execution_count": 56,
   "metadata": {},
   "outputs": [
    {
     "name": "stdout",
     "output_type": "stream",
     "text": [
      "epoch:0\tloss:0.3182457631712052\n",
      "epoch:1\tloss:0.31391743799550126\n",
      "epoch:2\tloss:0.3102943091708701\n",
      "epoch:3\tloss:0.30679216510574736\n",
      "epoch:4\tloss:0.30360727288588496\n",
      "epoch:5\tloss:0.30090134036873994\n",
      "epoch:6\tloss:0.2984805544221513\n",
      "epoch:7\tloss:0.296260054691163\n",
      "epoch:8\tloss:0.2940326246033649\n",
      "epoch:9\tloss:0.29216733716901583\n",
      "epoch:0\tloss:0.287280008686273\n",
      "epoch:1\tloss:0.2844649918517299\n",
      "epoch:2\tloss:0.282442187388473\n",
      "epoch:3\tloss:0.28053823422007046\n",
      "epoch:4\tloss:0.2786927887752803\n",
      "epoch:5\tloss:0.27689723042309133\n",
      "epoch:6\tloss:0.27514778479697527\n",
      "epoch:7\tloss:0.2734415685913075\n",
      "epoch:8\tloss:0.2717760995121562\n",
      "epoch:9\tloss:0.2701491852465063\n"
     ]
    }
   ],
   "source": [
    "run_check_point(train_DataLoader)\n",
    "run_check_point(test_DataLoader)"
   ]
  },
  {
   "cell_type": "markdown",
   "metadata": {},
   "source": [
    "## 77. ミニバッチ化\n",
    "問題76のコードを改変し，B事例ごとに損失・勾配を計算し，行列Wの値を更新せよ（ミニバッチ化）．Bの値を1,2,4,8,…と変化させながら，1エポックの学習に要する時間を比較せよ．"
   ]
  },
  {
   "cell_type": "code",
   "execution_count": null,
   "id": "174c23b9",
   "metadata": {},
   "outputs": [],
   "source": [
    "import torch\n",
    "\n",
    "class Net(torch.nn.Module):\n",
    "    def __init__(self) -> None:\n",
    "        super(Net, self).__init__()\n",
    "        self.fc1 = torch.nn.Linear(300, 4)\n",
    "\n",
    "    def forward(self, x):\n",
    "        return self.fc1(x)\n",
    "\n",
    "net = Net()"
   ]
  },
  {
   "cell_type": "code",
   "execution_count": 120,
   "metadata": {},
   "outputs": [],
   "source": [
    "import time\n",
    "\n",
    "def run_batch(DataLoader):\n",
    "    start_time = time.perf_counter()\n",
    "    criterion = torch.nn.CrossEntropyLoss()\n",
    "    optimizer = torch.optim.SGD(net.parameters(), lr=0.01)\n",
    "    for epoch in range(1):\n",
    "        for x, y in DataLoader:\n",
    "            y_pred = net(x)\n",
    "            loss = criterion(y_pred, y) # 推論値と正解データの誤差を計算\n",
    "\n",
    "            optimizer.zero_grad()\n",
    "            loss.backward()\n",
    "            optimizer.step()\n",
    "    end_time = time.perf_counter()\n",
    "\n",
    "    return end_time - start_time"
   ]
  },
  {
   "cell_type": "code",
   "execution_count": 121,
   "id": "f0b229b3",
   "metadata": {},
   "outputs": [
    {
     "name": "stdout",
     "output_type": "stream",
     "text": [
      "batch_size = 1\n",
      "学習データの経過時間:5.041620299998613\t検証データの経過時間:4.816708300000755\n",
      "batch_size = 2\n",
      "学習データの経過時間:3.1382570000023406\t検証データの経過時間:3.1898736000002827\n",
      "batch_size = 4\n",
      "学習データの経過時間:2.201504799999384\t検証データの経過時間:2.1811730999979773\n",
      "batch_size = 8\n",
      "学習データの経過時間:1.6116292999977304\t検証データの経過時間:1.6212355999996362\n",
      "batch_size = 16\n",
      "学習データの経過時間:1.3281841999996686\t検証データの経過時間:1.371978900002432\n",
      "batch_size = 32\n",
      "学習データの経過時間:1.2628449000003457\t検証データの経過時間:1.1888132999993104\n",
      "batch_size = 64\n",
      "学習データの経過時間:1.4122838000002957\t検証データの経過時間:1.2024932999993325\n"
     ]
    }
   ],
   "source": [
    "import math\n",
    "\n",
    "batchs = [int(math.pow(2, i)) for i in range(0, 7)]\n",
    "\n",
    "for batch in batchs:\n",
    "    train_DataLoader = torch.utils.data.DataLoader(\n",
    "        dataset=train_Dataset,\n",
    "        shuffle=True,\n",
    "        num_workers=2,\n",
    "        batch_size=batch\n",
    "    )\n",
    "    valid_DataLoader = torch.utils.data.DataLoader(\n",
    "        dataset=valid_Dataset,\n",
    "        shuffle=False,\n",
    "        num_workers=2,\n",
    "        batch_size=batch\n",
    "    )\n",
    "\n",
    "    elapsed_time_train = run_batch(train_DataLoader)\n",
    "    elapsed_time_valid = run_batch(train_DataLoader)\n",
    "\n",
    "    print(f'batch_size = {batch}\\n学習データの経過時間:{elapsed_time_train}\\t検証データの経過時間:{elapsed_time_valid}')\n",
    "    "
   ]
  },
  {
   "cell_type": "markdown",
   "metadata": {},
   "source": [
    "## 78. GPU上での学習\n",
    "問題77のコードを改変し，GPU上で学習を実行せよ．"
   ]
  },
  {
   "cell_type": "code",
   "execution_count": null,
   "id": "ae953b0e",
   "metadata": {},
   "outputs": [],
   "source": [
    "import torch\n",
    "\n",
    "class Net(torch.nn.Module):\n",
    "    def __init__(self) -> None:\n",
    "        super(Net, self).__init__()\n",
    "        self.fc1 = torch.nn.Linear(300, 4)\n",
    "\n",
    "    def forward(self, x):\n",
    "        return self.fc1(x)\n",
    "\n",
    "net = Net()"
   ]
  },
  {
   "cell_type": "code",
   "execution_count": 125,
   "metadata": {},
   "outputs": [],
   "source": [
    "import time\n",
    "\n",
    "def run_gpu(DataLoader):\n",
    "    device = torch.device('cuda' if torch.cuda.is_available() else 'cpu')\n",
    "    print(device)\n",
    "    net = net.to(device)\n",
    "\n",
    "    start_time = time.perf_counter()\n",
    "    criterion = torch.nn.CrossEntropyLoss()\n",
    "    optimizer = torch.optim.SGD(net.parameters(), lr=0.01)\n",
    "    for epoch in range(1):\n",
    "        for x, y in DataLoader:\n",
    "            y_pred = net(x)\n",
    "            loss = criterion(y_pred, y) # 推論値と正解データの誤差を計算\n",
    "\n",
    "            optimizer.zero_grad()\n",
    "            loss.backward()\n",
    "            optimizer.step()\n",
    "    end_time = time.perf_counter()\n",
    "\n",
    "    return end_time - start_time"
   ]
  },
  {
   "cell_type": "code",
   "execution_count": 127,
   "metadata": {},
   "outputs": [
    {
     "name": "stdout",
     "output_type": "stream",
     "text": [
      "batch_size = 1\n",
      "学習データの経過時間:2.0892134999994596\t検証データの経過時間:2.079903900001227\n",
      "batch_size = 2\n",
      "学習データの経過時間:1.3210861000006844\t検証データの経過時間:1.3508338999999978\n",
      "batch_size = 4\n",
      "学習データの経過時間:0.7301151000028767\t検証データの経過時間:0.7825517999990552\n",
      "batch_size = 8\n",
      "学習データの経過時間:0.46259879999706754\t検証データの経過時間:0.4520914000022458\n",
      "batch_size = 16\n",
      "学習データの経過時間:0.25706329999957234\t検証データの経過時間:0.24774179999803891\n",
      "batch_size = 32\n",
      "学習データの経過時間:0.16246449999744073\t検証データの経過時間:0.15976950000185752\n",
      "batch_size = 64\n",
      "学習データの経過時間:0.12426030000278843\t検証データの経過時間:0.127245400002721\n"
     ]
    }
   ],
   "source": [
    "import math\n",
    "\n",
    "batchs = [int(math.pow(2, i)) for i in range(0, 7)]\n",
    "\n",
    "for batch in batchs:\n",
    "    train_DataLoader = torch.utils.data.DataLoader(\n",
    "        dataset=train_Dataset,\n",
    "        shuffle=True,\n",
    "        batch_size=batch\n",
    "    )\n",
    "    valid_DataLoader = torch.utils.data.DataLoader(\n",
    "        dataset=valid_Dataset,\n",
    "        shuffle=False,\n",
    "        batch_size=batch\n",
    "    )\n",
    "\n",
    "    elapsed_time_train = run_batch(train_DataLoader)\n",
    "    elapsed_time_valid = run_batch(train_DataLoader)\n",
    "\n",
    "    print(f'batch_size = {batch}\\n学習データの経過時間:{elapsed_time_train}\\t検証データの経過時間:{elapsed_time_valid}')"
   ]
  },
  {
   "cell_type": "markdown",
   "metadata": {},
   "source": [
    "## 79. 多層ニューラルネットワーク\n",
    "問題78のコードを改変し，バイアス項の導入や多層化など，ニューラルネットワークの形状を変更しながら，高性能なカテゴリ分類器を構築せよ．"
   ]
  },
  {
   "cell_type": "code",
   "execution_count": 6,
   "metadata": {},
   "outputs": [],
   "source": [
    "import torch\n",
    "\n",
    "# 多層ニューラルネットワークの定義\n",
    "class Net2(torch.nn.Module):\n",
    "    def __init__(self):\n",
    "        super().__init__()\n",
    "        self.fc1 = torch.nn.Linear(300, 600)\n",
    "        self.fc2 = torch.nn.Linear(600, 400)\n",
    "        self.fc3 = torch.nn.Linear(400, 4)\n",
    "\n",
    "    def forward(self, x):\n",
    "        x = torch.nn.functional.relu(self.fc1(x))\n",
    "        x = torch.nn.functional.relu(self.fc2(x))\n",
    "\n",
    "        return torch.nn.functional.log_softmax(self.fc3(x), dim=1)"
   ]
  },
  {
   "cell_type": "code",
   "execution_count": 1,
   "metadata": {},
   "outputs": [],
   "source": [
    "# 学習の実行\n",
    "def run_train(DataLoader, net, device):\n",
    "    net2.train()\n",
    "    criterion = torch.nn.CrossEntropyLoss()\n",
    "    optimizer = torch.optim.SGD(net.parameters(), lr=0.1)\n",
    "    \n",
    "    losses = []\n",
    "    loss_ = 0\n",
    "    for x, y in DataLoader:\n",
    "        x = x.to(device)\n",
    "        y = y.to(device)\n",
    "        y_pred = net(x)\n",
    "\n",
    "        loss = criterion(y_pred, y) # 推論値と正解データの誤差を計算\n",
    "        loss_ += loss.item()\n",
    "\n",
    "        optimizer.zero_grad()\n",
    "        loss.backward()\n",
    "        optimizer.step()\n",
    "    \n",
    "    losses.append(loss_ / len(DataLoader))\n",
    "\n",
    "    return losses\n",
    "\n",
    "# 検証データで実行\n",
    "def run_valid(DataLoader, net, device):\n",
    "    net.eval()\n",
    "    criterion = torch.nn.CrossEntropyLoss()\n",
    "    \n",
    "    losses = []\n",
    "    loss_ = 0\n",
    "    with torch.no_grad(): # 勾配を計算しない\n",
    "        for x, y in DataLoader:\n",
    "            x = x.to(device)\n",
    "            y = y.to(device)\n",
    "            y_pred = net(x)\n",
    "\n",
    "            loss = criterion(y_pred, y) # 推論値と正解データの誤差を計算\n",
    "            loss_ += loss.item()\n",
    "        \n",
    "        losses.append(loss_ / len(DataLoader))\n",
    "\n",
    "    return losses"
   ]
  },
  {
   "cell_type": "code",
   "execution_count": 4,
   "id": "d955b94b",
   "metadata": {},
   "outputs": [],
   "source": [
    "import pandas as pd\n",
    "import torch\n",
    "\n",
    "# 訓練データの読み込み\n",
    "train_feature_df = pd.read_csv('train.feature.txt', sep=',', encoding='utf-8', header=None)\n",
    "train_label_df = pd.read_csv('train.label.txt', encoding='utf-8', names=['label'])\n",
    "train_Dataset = torch.utils.data.TensorDataset(torch.FloatTensor(train_feature_df.values), torch.tensor(train_label_df['label'].values))\n",
    "train_DataLoader = torch.utils.data.DataLoader(\n",
    "    dataset=train_Dataset, \n",
    "    shuffle=True,\n",
    "    batch_size=64\n",
    ")\n",
    "\n",
    "# 検証データの読み込み\n",
    "valid_feature_df = pd.read_csv('valid.feature.txt', sep=',', encoding='utf-8', header=None)\n",
    "valid_label_df = pd.read_csv('valid.label.txt', encoding='utf-8', names=['label'])\n",
    "valid_Dataset = torch.utils.data.TensorDataset(torch.FloatTensor(valid_feature_df.values), torch.tensor(valid_label_df['label'].values))\n",
    "valid_DataLoader = torch.utils.data.DataLoader(\n",
    "    dataset=valid_Dataset,\n",
    "    shuffle=False,\n",
    "    batch_size=64\n",
    ")\n",
    "\n",
    "# 評価データの読み込み\n",
    "test_feature_df = pd.read_csv('test.feature.txt', sep=',', encoding='utf-8', header=None)\n",
    "test_label_df = pd.read_csv('test.label.txt', encoding='utf-8', names=['label'])\n",
    "test_Dataset = torch.utils.data.TensorDataset(torch.FloatTensor(test_feature_df.values), torch.tensor(test_label_df['label'].values))\n",
    "test_DataLoader = torch.utils.data.DataLoader(\n",
    "    dataset=test_Dataset,\n",
    "    shuffle=False,\n",
    ")"
   ]
  },
  {
   "cell_type": "code",
   "execution_count": 7,
   "id": "09964960",
   "metadata": {},
   "outputs": [
    {
     "name": "stderr",
     "output_type": "stream",
     "text": [
      "100%|██████████| 76/76 [00:25<00:00,  2.94it/s]\n"
     ]
    },
    {
     "data": {
      "image/png": "[encoded data removed]",
      "text/plain": [
       "<Figure size 432x288 with 2 Axes>"
      ]
     },
     "metadata": {
      "needs_background": "light"
     },
     "output_type": "display_data"
    }
   ],
   "source": [
    "from matplotlib import pyplot as plt\n",
    "from tqdm import tqdm\n",
    "\n",
    "train_loss = []\n",
    "valid_loss = []\n",
    "epoch_num = 76\n",
    "\n",
    "device = torch.device('cuda' if torch.cuda.is_available() else 'cpu')\n",
    "net2 = Net2()\n",
    "net2 = net2.to(device)\n",
    "for epoch in tqdm(range(epoch_num)):\n",
    "    train_loss.append(run_train(train_DataLoader, net2, device))\n",
    "    valid_loss.append(run_valid(valid_DataLoader, net2, device))\n",
    "\n",
    "# プロット領域の定義\n",
    "fig = plt.figure()\n",
    "\n",
    "# 描画領域を追加\n",
    "train_g = fig.add_subplot(1, 2, 1)\n",
    "valid_g = fig.add_subplot(1, 2, 2)\n",
    "\n",
    "x = [i for i in range(epoch_num)]\n",
    "\n",
    "# プロット\n",
    "train_g.plot(x, train_loss, label='train')\n",
    "train_g.set_xlabel('epoch')\n",
    "train_g.set_ylabel('loss')\n",
    "train_g.legend()\n",
    "\n",
    "valid_g.plot(x, valid_loss, label='valid')\n",
    "valid_g.set_xlabel('epoch')\n",
    "valid_g.set_ylabel('loss')\n",
    "valid_g.legend()\n",
    "\n",
    "plt.show()"
   ]
  },
  {
   "cell_type": "code",
   "execution_count": 72,
   "metadata": {},
   "outputs": [
    {
     "name": "stdout",
     "output_type": "stream",
     "text": [
      "test accuracy:0.9115442278860569\n"
     ]
    }
   ],
   "source": [
    "test_acc = 0.0\n",
    "for x, y in test_DataLoader:\n",
    "    x = x.to(device)\n",
    "    y = y.to(device)\n",
    "    y_pred = net2(x)\n",
    "    test_acc += 1 if torch.argmax(y_pred).item()==y.item() else 0\n",
    "test_acc = test_acc / float(len(test_DataLoader))\n",
    "print(f'test accuracy:{test_acc}')"
   ]
  }
 ],
 "metadata": {
  "interpreter": {
   "hash": "4435a978c7b55b06a6c6ddc7c313339d2061d6557075a25c2ff8cf44d80d2cab"
  },
  "kernelspec": {
   "display_name": "Python 3.8.10 64-bit (system)",
   "name": "python3"
  },
  "language_info": {
   "codemirror_mode": {
    "name": "ipython",
    "version": 3
   },
   "file_extension": ".py",
   "mimetype": "text/x-python",
   "name": "python",
   "nbconvert_exporter": "python",
   "pygments_lexer": "ipython3",
   "version": "3.8.10"
  }
 },
 "nbformat": 4,
 "nbformat_minor": 5
}
