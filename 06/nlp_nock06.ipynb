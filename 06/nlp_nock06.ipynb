{
 "cells": [
  {
   "cell_type": "markdown",
   "id": "f0f49597-fbab-4f78-a18a-5379c86167af",
   "metadata": {},
   "source": [
    "# 第6章: 機械学習\n",
    "以降の章では実行時間が長いため全問の変数をそのまま用いている場面があります．"
   ]
  },
  {
   "cell_type": "markdown",
   "id": "c6f3c6d2-e831-4810-8885-732785b2c130",
   "metadata": {},
   "source": [
    "### 50. データの入手・整形\n",
    "News Aggregator Data Setをダウンロードし、以下の要領で学習データ（train.txt），検証データ（valid.txt），評価データ（test.txt）を作成せよ．\n",
    "\n",
    "1.ダウンロードしたzipファイルを解凍し，readme.txtの説明を読む．<br>\n",
    "2.情報源（publisher）が”Reuters”, “Huffington Post”, “Businessweek”, “Contactmusic.com”, “Daily Mail”の事例（記事）のみを抽出する．<br>\n",
    "3.抽出された事例をランダムに並び替える．<br>\n",
    "4.抽出された事例の80%を学習データ，残りの10%ずつを検証データと評価データに分割し，それぞれtrain.txt，valid.txt，test.txtというファイル名で保存する．ファイルには，１行に１事例を書き出すこととし，カテゴリ名と記事見出しのタブ区切り形式とせよ（このファイルは後に問題70で再利用する）．<br>\n",
    "学習データと評価データを作成したら，各カテゴリの事例数を確認せよ．"
   ]
  },
  {
   "cell_type": "code",
   "execution_count": 1,
   "id": "ff806270-66e6-434c-9113-5838a88888b7",
   "metadata": {},
   "outputs": [],
   "source": [
    "import pandas as pd\n",
    "from sklearn.model_selection import train_test_split\n",
    "\n",
    "def save_file_1(df, filename):\n",
    "    df.to_csv(filename, columns = [\"CATEGORY\",\"TITLE\"], sep=\"\\t\", header=False, index=False)"
   ]
  },
  {
   "cell_type": "code",
   "execution_count": 2,
   "id": "9986425e-ed29-4e70-9682-439344a94362",
   "metadata": {},
   "outputs": [],
   "source": [
    "# CSVのロード\n",
    "news_corpora = pd.read_csv(\"NewsAggregatorDataset/newsCorpora.csv\", \n",
    "                            sep=\"\\t\", \n",
    "                            header=None, \n",
    "                            names=[\"ID\",\"TITLE\",\"URL\",\"PUBLISHER\",\"CATEGORY\",\"STORY\",\"HOSTNAME\",\"TIMESTAMP\"]\n",
    "                            )\n",
    "\n",
    "# 指定されたPUBLISHERを含む行のみを抜粋\n",
    "df = news_corpora[(news_corpora[\"PUBLISHER\"] == \"Reuters\") \\\n",
    "                | (news_corpora[\"PUBLISHER\"] == \"Huffington Post\") \\\n",
    "                | (news_corpora[\"PUBLISHER\"] == \"Businessweek\") \\\n",
    "                | (news_corpora[\"PUBLISHER\"] == \"Contactmusic.com\") \\\n",
    "                | (news_corpora[\"PUBLISHER\"] == \"Daily Mail\") \\\n",
    "]\n",
    "# シャッフル\n",
    "df = df.sample(frac=1)\n",
    "\n",
    "# 訓練，検証，評価データに分割\n",
    "train, valid_test = train_test_split(df, test_size=0.2)\n",
    "valid, test = train_test_split(valid_test, test_size=0.5)\n",
    "\n",
    "# 保存\n",
    "save_file_1(train, \"train.txt\")\n",
    "save_file_1(valid, \"valid.txt\")\n",
    "save_file_1(test, \"test.txt\")"
   ]
  },
  {
   "cell_type": "code",
   "execution_count": 3,
   "id": "f0eb2507",
   "metadata": {},
   "outputs": [
    {
     "name": "stdout",
     "output_type": "stream",
     "text": [
      "train:\n",
      "b    4493\n",
      "e    4197\n",
      "t    1239\n",
      "m     743\n",
      "Name: CATEGORY, dtype: int64\n",
      "valid:\n",
      "b    566\n",
      "e    558\n",
      "t    127\n",
      "m     83\n",
      "Name: CATEGORY, dtype: int64\n",
      "test:\n",
      "b    568\n",
      "e    524\n",
      "t    158\n",
      "m     84\n",
      "Name: CATEGORY, dtype: int64\n"
     ]
    }
   ],
   "source": [
    "print(f'train:\\n{train[\"CATEGORY\"].value_counts(sort=True)}')\n",
    "print(f'valid:\\n{valid[\"CATEGORY\"].value_counts(sort=True)}')\n",
    "print(f'test:\\n{test[\"CATEGORY\"].value_counts(sort=True)}')"
   ]
  },
  {
   "cell_type": "markdown",
   "id": "32a1010b-c5a0-4bcb-9159-45a64bd5b857",
   "metadata": {},
   "source": [
    "### 51. 特徴量抽出\n",
    "学習データ，検証データ，評価データから特徴量を抽出し，それぞれtrain.feature.txt，valid.feature.txt，test.feature.txtというファイル名で保存せよ． なお，カテゴリ分類に有用そうな特徴量は各自で自由に設計せよ．記事の見出しを単語列に変換したものが最低限のベースラインとなるであろう．"
   ]
  },
  {
   "cell_type": "code",
   "execution_count": 4,
   "id": "26a3c70c-89e4-4a84-97d5-6ee270590a31",
   "metadata": {},
   "outputs": [],
   "source": [
    "import pandas as pd\n",
    "from sklearn.model_selection import train_test_split\n",
    "from sklearn.feature_extraction.text import TfidfVectorizer\n",
    "\n",
    "def save_file_1(df, filename):\n",
    "    df.to_csv(filename, columns = [\"CATEGORY\",\"TITLE\"], sep=\"\\t\", header=False, index=False)\n",
    "\n",
    "def save_file_2(df, filename):\n",
    "    df.to_csv(filename, sep=\",\", header=False, index=False)"
   ]
  },
  {
   "cell_type": "code",
   "execution_count": 6,
   "id": "6d14fb50-029f-4baf-9aa9-e972a19df0b3",
   "metadata": {},
   "outputs": [
    {
     "data": {
      "text/html": [
       "<div>\n",
       "<style scoped>\n",
       "    .dataframe tbody tr th:only-of-type {\n",
       "        vertical-align: middle;\n",
       "    }\n",
       "\n",
       "    .dataframe tbody tr th {\n",
       "        vertical-align: top;\n",
       "    }\n",
       "\n",
       "    .dataframe thead th {\n",
       "        text-align: right;\n",
       "    }\n",
       "</style>\n",
       "<table border=\"1\" class=\"dataframe\">\n",
       "  <thead>\n",
       "    <tr style=\"text-align: right;\">\n",
       "      <th></th>\n",
       "      <th>00</th>\n",
       "      <th>05</th>\n",
       "      <th>08</th>\n",
       "      <th>09</th>\n",
       "      <th>0ff</th>\n",
       "      <th>0ut</th>\n",
       "      <th>10</th>\n",
       "      <th>100</th>\n",
       "      <th>1000</th>\n",
       "      <th>10000</th>\n",
       "      <th>...</th>\n",
       "      <th>zone</th>\n",
       "      <th>zooey</th>\n",
       "      <th>zoosk</th>\n",
       "      <th>zpfa3mqti7qdrpfhqwjm</th>\n",
       "      <th>zuckerberg</th>\n",
       "      <th>zynga</th>\n",
       "      <th>zâ</th>\n",
       "      <th>œlousyâ</th>\n",
       "      <th>œpiece</th>\n",
       "      <th>œwaist</th>\n",
       "    </tr>\n",
       "  </thead>\n",
       "  <tbody>\n",
       "    <tr>\n",
       "      <th>0</th>\n",
       "      <td>0.0</td>\n",
       "      <td>0.0</td>\n",
       "      <td>0.0</td>\n",
       "      <td>0.0</td>\n",
       "      <td>0.0</td>\n",
       "      <td>0.0</td>\n",
       "      <td>0.000000</td>\n",
       "      <td>0.0</td>\n",
       "      <td>0.0</td>\n",
       "      <td>0.0</td>\n",
       "      <td>...</td>\n",
       "      <td>0.0</td>\n",
       "      <td>0.0</td>\n",
       "      <td>0.0</td>\n",
       "      <td>0.0</td>\n",
       "      <td>0.0</td>\n",
       "      <td>0.0</td>\n",
       "      <td>0.0</td>\n",
       "      <td>0.0</td>\n",
       "      <td>0.0</td>\n",
       "      <td>0.0</td>\n",
       "    </tr>\n",
       "    <tr>\n",
       "      <th>1</th>\n",
       "      <td>0.0</td>\n",
       "      <td>0.0</td>\n",
       "      <td>0.0</td>\n",
       "      <td>0.0</td>\n",
       "      <td>0.0</td>\n",
       "      <td>0.0</td>\n",
       "      <td>0.000000</td>\n",
       "      <td>0.0</td>\n",
       "      <td>0.0</td>\n",
       "      <td>0.0</td>\n",
       "      <td>...</td>\n",
       "      <td>0.0</td>\n",
       "      <td>0.0</td>\n",
       "      <td>0.0</td>\n",
       "      <td>0.0</td>\n",
       "      <td>0.0</td>\n",
       "      <td>0.0</td>\n",
       "      <td>0.0</td>\n",
       "      <td>0.0</td>\n",
       "      <td>0.0</td>\n",
       "      <td>0.0</td>\n",
       "    </tr>\n",
       "    <tr>\n",
       "      <th>2</th>\n",
       "      <td>0.0</td>\n",
       "      <td>0.0</td>\n",
       "      <td>0.0</td>\n",
       "      <td>0.0</td>\n",
       "      <td>0.0</td>\n",
       "      <td>0.0</td>\n",
       "      <td>0.000000</td>\n",
       "      <td>0.0</td>\n",
       "      <td>0.0</td>\n",
       "      <td>0.0</td>\n",
       "      <td>...</td>\n",
       "      <td>0.0</td>\n",
       "      <td>0.0</td>\n",
       "      <td>0.0</td>\n",
       "      <td>0.0</td>\n",
       "      <td>0.0</td>\n",
       "      <td>0.0</td>\n",
       "      <td>0.0</td>\n",
       "      <td>0.0</td>\n",
       "      <td>0.0</td>\n",
       "      <td>0.0</td>\n",
       "    </tr>\n",
       "    <tr>\n",
       "      <th>3</th>\n",
       "      <td>0.0</td>\n",
       "      <td>0.0</td>\n",
       "      <td>0.0</td>\n",
       "      <td>0.0</td>\n",
       "      <td>0.0</td>\n",
       "      <td>0.0</td>\n",
       "      <td>0.307325</td>\n",
       "      <td>0.0</td>\n",
       "      <td>0.0</td>\n",
       "      <td>0.0</td>\n",
       "      <td>...</td>\n",
       "      <td>0.0</td>\n",
       "      <td>0.0</td>\n",
       "      <td>0.0</td>\n",
       "      <td>0.0</td>\n",
       "      <td>0.0</td>\n",
       "      <td>0.0</td>\n",
       "      <td>0.0</td>\n",
       "      <td>0.0</td>\n",
       "      <td>0.0</td>\n",
       "      <td>0.0</td>\n",
       "    </tr>\n",
       "    <tr>\n",
       "      <th>4</th>\n",
       "      <td>0.0</td>\n",
       "      <td>0.0</td>\n",
       "      <td>0.0</td>\n",
       "      <td>0.0</td>\n",
       "      <td>0.0</td>\n",
       "      <td>0.0</td>\n",
       "      <td>0.000000</td>\n",
       "      <td>0.0</td>\n",
       "      <td>0.0</td>\n",
       "      <td>0.0</td>\n",
       "      <td>...</td>\n",
       "      <td>0.0</td>\n",
       "      <td>0.0</td>\n",
       "      <td>0.0</td>\n",
       "      <td>0.0</td>\n",
       "      <td>0.0</td>\n",
       "      <td>0.0</td>\n",
       "      <td>0.0</td>\n",
       "      <td>0.0</td>\n",
       "      <td>0.0</td>\n",
       "      <td>0.0</td>\n",
       "    </tr>\n",
       "  </tbody>\n",
       "</table>\n",
       "<p>5 rows × 12814 columns</p>\n",
       "</div>"
      ],
      "text/plain": [
       "    00   05   08   09  0ff  0ut        10  100  1000  10000  ...  zone  zooey  \\\n",
       "0  0.0  0.0  0.0  0.0  0.0  0.0  0.000000  0.0   0.0    0.0  ...   0.0    0.0   \n",
       "1  0.0  0.0  0.0  0.0  0.0  0.0  0.000000  0.0   0.0    0.0  ...   0.0    0.0   \n",
       "2  0.0  0.0  0.0  0.0  0.0  0.0  0.000000  0.0   0.0    0.0  ...   0.0    0.0   \n",
       "3  0.0  0.0  0.0  0.0  0.0  0.0  0.307325  0.0   0.0    0.0  ...   0.0    0.0   \n",
       "4  0.0  0.0  0.0  0.0  0.0  0.0  0.000000  0.0   0.0    0.0  ...   0.0    0.0   \n",
       "\n",
       "   zoosk  zpfa3mqti7qdrpfhqwjm  zuckerberg  zynga   zâ  œlousyâ  œpiece  \\\n",
       "0    0.0                   0.0         0.0    0.0  0.0      0.0     0.0   \n",
       "1    0.0                   0.0         0.0    0.0  0.0      0.0     0.0   \n",
       "2    0.0                   0.0         0.0    0.0  0.0      0.0     0.0   \n",
       "3    0.0                   0.0         0.0    0.0  0.0      0.0     0.0   \n",
       "4    0.0                   0.0         0.0    0.0  0.0      0.0     0.0   \n",
       "\n",
       "   œwaist  \n",
       "0     0.0  \n",
       "1     0.0  \n",
       "2     0.0  \n",
       "3     0.0  \n",
       "4     0.0  \n",
       "\n",
       "[5 rows x 12814 columns]"
      ]
     },
     "execution_count": 6,
     "metadata": {},
     "output_type": "execute_result"
    }
   ],
   "source": [
    "# CSVファイルのロード\n",
    "news_corpora = pd.read_csv(\"NewsAggregatorDataset/newsCorpora.csv\", sep=\"\\t\", header=None)\n",
    "news_corpora.columns = [\"ID\", \"TITLE\", \"URL\", \"PUBLISHER\", \"CATEGORY\", \"STORY\", \"HOSTNAME\", \"TIMESTAMP\"]\n",
    "\n",
    "# 指定されたPUBLISHERを含む行のみを抜粋\n",
    "df = news_corpora[(news_corpora[\"PUBLISHER\"] == \"Reuters\") \\\n",
    "                | (news_corpora[\"PUBLISHER\"] == \"Huffington Post\") \\\n",
    "                | (news_corpora[\"PUBLISHER\"] == \"Businessweek\") \\\n",
    "                | (news_corpora[\"PUBLISHER\"] == \"Contactmusic.com\") \\\n",
    "                | (news_corpora[\"PUBLISHER\"] == \"Daily Mail\")]\n",
    "df = df.sample(frac=1)\n",
    "\n",
    "# 訓練，検証，評価データに分割\n",
    "train_f, valid_test_f = train_test_split(df, test_size=0.2)\n",
    "valid_f, test_f = train_test_split(valid_test_f, test_size=0.5)\n",
    "\n",
    "vec_tfidf = TfidfVectorizer()\n",
    "\n",
    "# TFIDF値を特徴量として算出\n",
    "train_X = vec_tfidf.fit_transform(train_f[\"TITLE\"])\n",
    "valid_X = vec_tfidf.transform(valid_f[\"TITLE\"])\n",
    "test_X = vec_tfidf.transform(test_f[\"TITLE\"])\n",
    "\n",
    "# DataFrame型へ変換\n",
    "train_X = pd.DataFrame(train_X.toarray(), columns=vec_tfidf.get_feature_names_out())\n",
    "valid_X = pd.DataFrame(valid_X.toarray(), columns=vec_tfidf.get_feature_names_out())\n",
    "test_X = pd.DataFrame(test_X.toarray(), columns=vec_tfidf.get_feature_names_out())\n",
    "\n",
    "# 保存\n",
    "save_file_2(train_X, \"train.feature.txt\")\n",
    "save_file_2(valid_X, \"valid.feature.txt\")\n",
    "save_file_2(test_X, \"test.feature.txt\")\n",
    "\n",
    "train_X.head()"
   ]
  },
  {
   "cell_type": "markdown",
   "id": "8c9b13a2-f441-49aa-855c-e93b2e52ff01",
   "metadata": {},
   "source": [
    "### 52. 学習\n",
    "51で構築した学習データを用いて，ロジスティック回帰モデルを学習せよ．"
   ]
  },
  {
   "cell_type": "code",
   "execution_count": 7,
   "id": "5d96535b-6f9b-4e5b-b5e1-f7091db15460",
   "metadata": {},
   "outputs": [
    {
     "data": {
      "text/plain": [
       "LogisticRegression(max_iter=10000)"
      ]
     },
     "execution_count": 7,
     "metadata": {},
     "output_type": "execute_result"
    }
   ],
   "source": [
    "from sklearn.linear_model import LogisticRegression\n",
    "import pandas as pd\n",
    "\n",
    "#学習データの読み込み\n",
    "train_X = pd.read_csv('train.feature.txt', encoding='utf-8', sep=',', header=None)\n",
    "train_Y = pd.read_csv('train.txt', sep='\\t', encoding='utf-8', names=['CATEGORY', 'TITLE'])\n",
    "\n",
    "# 学習\n",
    "LR = LogisticRegression(max_iter=10000)\n",
    "LR.fit(train_X, train_Y[\"CATEGORY\"])"
   ]
  },
  {
   "cell_type": "markdown",
   "id": "2f9bc062-4649-4bd9-9988-0a41420a46c8",
   "metadata": {},
   "source": [
    "### 53. 予測\n",
    "52で学習したロジスティック回帰モデルを用い，与えられた記事見出しからカテゴリとその予測確率を計算するプログラムを実装せよ．"
   ]
  },
  {
   "cell_type": "markdown",
   "id": "b08254c2",
   "metadata": {},
   "source": [
    "52で学習したモデルLRを使用"
   ]
  },
  {
   "cell_type": "code",
   "execution_count": 8,
   "id": "ecb19e15-9dbe-41a1-98c4-e8a55afba1bc",
   "metadata": {},
   "outputs": [
    {
     "data": {
      "text/html": [
       "<div>\n",
       "<style scoped>\n",
       "    .dataframe tbody tr th:only-of-type {\n",
       "        vertical-align: middle;\n",
       "    }\n",
       "\n",
       "    .dataframe tbody tr th {\n",
       "        vertical-align: top;\n",
       "    }\n",
       "\n",
       "    .dataframe thead th {\n",
       "        text-align: right;\n",
       "    }\n",
       "</style>\n",
       "<table border=\"1\" class=\"dataframe\">\n",
       "  <thead>\n",
       "    <tr style=\"text-align: right;\">\n",
       "      <th></th>\n",
       "      <th>Accuracy</th>\n",
       "      <th>CATEGORY</th>\n",
       "      <th>TITLE</th>\n",
       "    </tr>\n",
       "  </thead>\n",
       "  <tbody>\n",
       "    <tr>\n",
       "      <th>0</th>\n",
       "      <td>0.577463</td>\n",
       "      <td>e</td>\n",
       "      <td>'Surprised' Microsoft Works With China as Wind...</td>\n",
       "    </tr>\n",
       "    <tr>\n",
       "      <th>1</th>\n",
       "      <td>0.360574</td>\n",
       "      <td>b</td>\n",
       "      <td>ECB's Draghi says euro zone recovery proceeding</td>\n",
       "    </tr>\n",
       "    <tr>\n",
       "      <th>2</th>\n",
       "      <td>0.466654</td>\n",
       "      <td>b</td>\n",
       "      <td>UPDATE 2-European Factors to Watch-Ukraine wor...</td>\n",
       "    </tr>\n",
       "    <tr>\n",
       "      <th>3</th>\n",
       "      <td>0.635243</td>\n",
       "      <td>b</td>\n",
       "      <td>Ousted chairman Charney reports 42.98 pct stak...</td>\n",
       "    </tr>\n",
       "    <tr>\n",
       "      <th>4</th>\n",
       "      <td>0.602697</td>\n",
       "      <td>b</td>\n",
       "      <td>Bouygues confirms improved offer for Vivendi's...</td>\n",
       "    </tr>\n",
       "  </tbody>\n",
       "</table>\n",
       "</div>"
      ],
      "text/plain": [
       "   Accuracy CATEGORY                                              TITLE\n",
       "0  0.577463        e  'Surprised' Microsoft Works With China as Wind...\n",
       "1  0.360574        b    ECB's Draghi says euro zone recovery proceeding\n",
       "2  0.466654        b  UPDATE 2-European Factors to Watch-Ukraine wor...\n",
       "3  0.635243        b  Ousted chairman Charney reports 42.98 pct stak...\n",
       "4  0.602697        b  Bouygues confirms improved offer for Vivendi's..."
      ]
     },
     "execution_count": 8,
     "metadata": {},
     "output_type": "execute_result"
    }
   ],
   "source": [
    "import numpy as np\n",
    "\n",
    "#評価データの読み込み\n",
    "test_X = pd.read_csv('test.feature.txt', encoding='utf-8', sep=',', header=None)\n",
    "test_Y = pd.read_csv('test.txt', sep='\\t', encoding='utf-8', names=['CATEGORY', 'TITLE'])\n",
    "\n",
    "# 予測確率と予測カテゴリをDataFrame型にして出力\n",
    "data = [np.max(LR.predict_proba(test_X), axis=1), LR.predict(test_X), test_Y[\"TITLE\"]]\n",
    "df_test = pd.DataFrame(np.array(data).T, columns=[\"Accuracy\", \"CATEGORY\", \"TITLE\"])\n",
    "df_test.head()"
   ]
  },
  {
   "cell_type": "markdown",
   "id": "4645d40c-05ac-4eb9-a0b6-d7b0d20778d0",
   "metadata": {},
   "source": [
    "### 54. 正解率の計測\n",
    "52で学習したロジスティック回帰モデルの正解率を，学習データおよび評価データ上で計測せよ．"
   ]
  },
  {
   "cell_type": "code",
   "execution_count": 9,
   "id": "75def0d1-3374-4fd7-9b29-ca41770d86de",
   "metadata": {},
   "outputs": [
    {
     "name": "stdout",
     "output_type": "stream",
     "text": [
      "正解率（学習データ）: 0.695\n",
      "正解率（評価データ）: 0.420\n"
     ]
    }
   ],
   "source": [
    "from sklearn.metrics import accuracy_score\n",
    "\n",
    "#予測\n",
    "train_pred = LR.predict(train_X)\n",
    "test_pred = LR.predict(test_X)\n",
    "\n",
    "# 学習データと評価データのAccuracyを出力\n",
    "train_accuracy = accuracy_score(train_Y['CATEGORY'], train_pred)\n",
    "test_accuracy = accuracy_score(test_Y['CATEGORY'], test_pred)\n",
    "print(\"正解率（学習データ）: {0:.3f}\".format(train_accuracy))\n",
    "print(\"正解率（評価データ）: {0:.3f}\".format(test_accuracy))"
   ]
  },
  {
   "cell_type": "markdown",
   "id": "545b44ce-5fe1-42d8-a2b3-65e3ada9cc5b",
   "metadata": {},
   "source": [
    "### 55. 混同行列の作成\n",
    "52で学習したロジスティック回帰モデルの混同行列（confusion matrix）を，学習データおよび評価データ上で作成せよ．"
   ]
  },
  {
   "cell_type": "code",
   "execution_count": 10,
   "id": "9e833f83-5506-4dbb-a66b-fc39f6c818fb",
   "metadata": {},
   "outputs": [
    {
     "name": "stdout",
     "output_type": "stream",
     "text": [
      "[[3913  580    0    0]\n",
      " [ 752 3445    0    0]\n",
      " [ 401  336    6    0]\n",
      " [ 673  517    0   49]]\n",
      "[[326 239   0   3]\n",
      " [289 234   0   1]\n",
      " [ 50  34   0   0]\n",
      " [ 91  67   0   0]]\n"
     ]
    }
   ],
   "source": [
    "from sklearn.metrics import confusion_matrix\n",
    "\n",
    "train_cm = confusion_matrix(train_Y['CATEGORY'], train_pred)\n",
    "test_cm = confusion_matrix(test_Y['CATEGORY'], test_pred)\n",
    "print(train_cm)\n",
    "print(test_cm)"
   ]
  },
  {
   "cell_type": "markdown",
   "id": "491ca0fe-8248-4bab-a92e-861f112050e6",
   "metadata": {},
   "source": [
    "### 56. 適合率，再現率，F1スコアの計測\n",
    "52で学習したロジスティック回帰モデルの適合率，再現率，F1スコアを，評価データ上で計測せよ．カテゴリごとに適合率，再現率，F1スコアを求め，カテゴリごとの性能をマイクロ平均（micro-average）とマクロ平均（macro-average）で統合せよ．"
   ]
  },
  {
   "cell_type": "code",
   "execution_count": 11,
   "id": "4476ccb1-609e-43f4-8074-6de544afc472",
   "metadata": {},
   "outputs": [
    {
     "name": "stderr",
     "output_type": "stream",
     "text": [
      "D:\\base\\lib\\site-packages\\sklearn\\metrics\\_classification.py:1308: UndefinedMetricWarning: Precision is ill-defined and being set to 0.0 in labels with no predicted samples. Use `zero_division` parameter to control this behavior.\n",
      "  _warn_prf(average, modifier, msg_start, len(result))\n",
      "D:\\base\\lib\\site-packages\\sklearn\\metrics\\_classification.py:1308: UndefinedMetricWarning: Precision is ill-defined and being set to 0.0 in labels with no predicted samples. Use `zero_division` parameter to control this behavior.\n",
      "  _warn_prf(average, modifier, msg_start, len(result))\n"
     ]
    },
    {
     "data": {
      "text/html": [
       "<div>\n",
       "<style scoped>\n",
       "    .dataframe tbody tr th:only-of-type {\n",
       "        vertical-align: middle;\n",
       "    }\n",
       "\n",
       "    .dataframe tbody tr th {\n",
       "        vertical-align: top;\n",
       "    }\n",
       "\n",
       "    .dataframe thead th {\n",
       "        text-align: right;\n",
       "    }\n",
       "</style>\n",
       "<table border=\"1\" class=\"dataframe\">\n",
       "  <thead>\n",
       "    <tr style=\"text-align: right;\">\n",
       "      <th></th>\n",
       "      <th>適合率</th>\n",
       "      <th>再現率</th>\n",
       "      <th>F1スコア</th>\n",
       "    </tr>\n",
       "  </thead>\n",
       "  <tbody>\n",
       "    <tr>\n",
       "      <th>b</th>\n",
       "      <td>0.431217</td>\n",
       "      <td>0.573944</td>\n",
       "      <td>0.492447</td>\n",
       "    </tr>\n",
       "    <tr>\n",
       "      <th>e</th>\n",
       "      <td>0.407666</td>\n",
       "      <td>0.446565</td>\n",
       "      <td>0.426230</td>\n",
       "    </tr>\n",
       "    <tr>\n",
       "      <th>t</th>\n",
       "      <td>0.000000</td>\n",
       "      <td>0.000000</td>\n",
       "      <td>0.000000</td>\n",
       "    </tr>\n",
       "    <tr>\n",
       "      <th>m</th>\n",
       "      <td>0.000000</td>\n",
       "      <td>0.000000</td>\n",
       "      <td>0.000000</td>\n",
       "    </tr>\n",
       "    <tr>\n",
       "      <th>マイクロ平均</th>\n",
       "      <td>0.419790</td>\n",
       "      <td>0.419790</td>\n",
       "      <td>0.419790</td>\n",
       "    </tr>\n",
       "  </tbody>\n",
       "</table>\n",
       "</div>"
      ],
      "text/plain": [
       "             適合率       再現率     F1スコア\n",
       "b       0.431217  0.573944  0.492447\n",
       "e       0.407666  0.446565  0.426230\n",
       "t       0.000000  0.000000  0.000000\n",
       "m       0.000000  0.000000  0.000000\n",
       "マイクロ平均  0.419790  0.419790  0.419790"
      ]
     },
     "execution_count": 11,
     "metadata": {},
     "output_type": "execute_result"
    }
   ],
   "source": [
    "from sklearn.metrics import precision_score, recall_score, f1_score\n",
    "\n",
    "# 適合率\n",
    "precision = precision_score(test_Y['CATEGORY'], test_pred, average=None, labels=['b', 'e', 't', 'm'])\n",
    "precision = np.append(precision, precision_score(test_Y['CATEGORY'], test_pred, average='micro'))\n",
    "precision = np.append(precision, precision_score(test_Y['CATEGORY'], test_pred, average='macro'))\n",
    "\n",
    "# 再現率\n",
    "recall = recall_score(test_Y['CATEGORY'], test_pred, average=None, labels=['b', 'e', 't', 'm'])\n",
    "recall = np.append(recall, recall_score(test_Y['CATEGORY'], test_pred, average='micro'))\n",
    "recall = np.append(recall, recall_score(test_Y['CATEGORY'], test_pred, average='macro'))\n",
    "\n",
    "# F1スコア\n",
    "f1 = f1_score(test_Y['CATEGORY'], test_pred, average=None, labels=['b', 'e', 't', 'm'])\n",
    "f1 = np.append(f1, f1_score(test_Y['CATEGORY'], test_pred, average='micro'))\n",
    "f1 = np.append(f1, f1_score(test_Y['CATEGORY'], test_pred, average='macro'))\n",
    "\n",
    "# ２次元配列化\n",
    "data = [precision, recall, f1]\n",
    "\n",
    "# 2次元配列を転置してDataFrame型に変換\n",
    "scores = pd.DataFrame(np.array(data).T, columns=['適合率', '再現率', 'F1スコア'], index=['b', 'e', 't', 'm', 'マイクロ平均', 'マクロ平均'])\n",
    "scores.head()"
   ]
  },
  {
   "cell_type": "markdown",
   "id": "b74343bd-3d00-4298-a25a-5e546bd0e258",
   "metadata": {},
   "source": [
    "### 56.適合率，再現率，F1スコアの計測\n",
    "52で学習したロジスティック回帰モデルの中で，重みの高い特徴量トップ10と，重みの低い特徴量トップ10を確認せよ．"
   ]
  },
  {
   "cell_type": "code",
   "execution_count": 12,
   "id": "d0d57833-6d06-4664-b7c9-f437680c113d",
   "metadata": {},
   "outputs": [
    {
     "name": "stdout",
     "output_type": "stream",
     "text": [
      "CATEGORY : b\n",
      "      1       2        3      4      5      6     7         8         9   \\\n",
      "高い  days  buying  obesity  yield  fraud  signs   don  released    safety   \n",
      "低い  sign      17    album     if   john  firms  open   arrives  daughter   \n",
      "\n",
      "        10  \n",
      "高い  africa  \n",
      "低い    fine  \n",
      "\n",
      "CATEGORY : e\n",
      "         1      2      3      4       5      6      7        8         9   \\\n",
      "高い     plan  makes    pop  looks    five    pay   this    above       did   \n",
      "低い  changed  share  stars  going  comedy  plane  light  remains  released   \n",
      "\n",
      "          10  \n",
      "高い  optimism  \n",
      "低い     nears  \n",
      "\n",
      "CATEGORY : m\n",
      "            1       2            3        4     5        6       7      8   \\\n",
      "高い  treasuries      un  authorities  worries  seen  ukraine  threat  stars   \n",
      "低い   inflation  higher         what     case  deal    house   falls   over   \n",
      "\n",
      "        9    10  \n",
      "高い   ultra  dad  \n",
      "低い  shares  for  \n",
      "\n",
      "CATEGORY : t\n",
      "      1        2      3       4    5      6     7       8             9   \\\n",
      "高い  even  reaches  phone   house  pct  women   mln  blames  expectations   \n",
      "低い   you       tv    boe  europe  way  could  seen     who         heart   \n",
      "\n",
      "       10  \n",
      "高い  share  \n",
      "低い  other  \n",
      "\n"
     ]
    }
   ],
   "source": [
    "words = np.array(vec_tfidf.get_feature_names_out())\n",
    "index = [i for i in range(1, 11)]\n",
    "for class_, coef_ in zip(LR.classes_, LR.coef_): # ラベルとそれに対応する重みを参照\n",
    "        print(f'CATEGORY : {class_}')\n",
    "        best = pd.DataFrame(words[np.argsort(coef_)[::-1][:10]], columns=[\"高い\"], index=index).T\n",
    "        worst = pd.DataFrame(words[np.argsort(coef_)[:10]], columns=[\"低い\"], index=index).T\n",
    "        print(pd.concat([best, worst], axis=0), end='\\n\\n')"
   ]
  },
  {
   "cell_type": "markdown",
   "id": "7f628ae5",
   "metadata": {},
   "source": [
    "### 58. 正則化パラメータの変更\n",
    "ロジスティック回帰モデルを学習するとき，正則化パラメータを調整することで，学習時の過学習（overfitting）の度合いを制御できる．異なる正則化パラメータでロジスティック回帰モデルを学習し，学習データ，検証データ，および評価データ上の正解率を求めよ．実験の結果は，正則化パラメータを横軸，正解率を縦軸としたグラフにまとめよ．"
   ]
  },
  {
   "cell_type": "code",
   "execution_count": null,
   "id": "4a124e53-7df8-4024-bedf-c00b0a4697de",
   "metadata": {},
   "outputs": [
    {
     "name": "stderr",
     "output_type": "stream",
     "text": [
      "100%|██████████| 10/10 [02:33<00:00, 15.35s/it]\n"
     ]
    }
   ],
   "source": [
    "from tqdm import tqdm\n",
    "\n",
    "def score_LR(lg, X):\n",
    "  return [np.max(lg.predict_proba(X), axis=1), lg.predict(X)]\n",
    "\n",
    "\n",
    "#検証データの読み込み\n",
    "valid_X = pd.read_csv('valid.feature.txt', encoding='utf-8', sep=',', header=None)\n",
    "valid_Y = pd.read_csv('valid.txt', sep='\\t', encoding='utf-8', names=['CATEGORY', 'TITLE'])\n",
    "\n",
    "result = []\n",
    "for C in tqdm(range(1, 11)):\n",
    "  C *= 0.1\n",
    "  # モデルの学習\n",
    "  LR = LogisticRegression(max_iter=10000, C=C)\n",
    "  LR.fit(train_X, train_Y['CATEGORY'])\n",
    "\n",
    "  # 予測値の取得\n",
    "  train_pred = score_LR(LR, train_X)\n",
    "  valid_pred = score_LR(LR, valid_X)\n",
    "  test_pred = score_LR(LR, test_X)\n",
    "\n",
    "  # 正解率の算出\n",
    "  train_acc = accuracy_score(train_Y['CATEGORY'], train_pred[1])\n",
    "  valid_acc = accuracy_score(valid_Y['CATEGORY'], valid_pred[1])\n",
    "  test_acc = accuracy_score(test_Y['CATEGORY'], test_pred[1])\n",
    "\n",
    "  # 結果の格納\n",
    "  result.append([C, train_acc, valid_acc, test_acc])"
   ]
  },
  {
   "cell_type": "code",
   "execution_count": null,
   "id": "b4747e1b-af6b-4f29-810d-765f9bdb0a0f",
   "metadata": {},
   "outputs": [
    {
     "data": {
      "image/png": "[encoded data removed]",
      "text/plain": [
       "<Figure size 432x288 with 1 Axes>"
      ]
     },
     "metadata": {
      "needs_background": "light"
     },
     "output_type": "display_data"
    }
   ],
   "source": [
    "from matplotlib import pyplot as plt\n",
    "import japanize_matplotlib\n",
    "\n",
    "#結果の図示\n",
    "plt.plot(result[0], result[1], label='train')\n",
    "plt.plot(result[0], result[2], label='valid')\n",
    "plt.plot(result[0], result[3], label='test')\n",
    "plt.xlabel('正則化パラメータ')\n",
    "plt.ylabel('正解率')\n",
    "plt.legend()\n",
    "plt.show()"
   ]
  },
  {
   "cell_type": "markdown",
   "id": "e2d8c72b",
   "metadata": {},
   "source": [
    "### 59. ハイパーパラメータの探索\n",
    "学習アルゴリズムや学習パラメータを変えながら，カテゴリ分類モデルを学習せよ．検証データ上の正解率が最も高くなる学習アルゴリズム・パラメータを求めよ．また，その学習アルゴリズム・パラメータを用いたときの評価データ上の正解率を求めよ．"
   ]
  },
  {
   "cell_type": "markdown",
   "id": "3c3e9a88",
   "metadata": {},
   "source": [
    "`K近傍法`での学習"
   ]
  },
  {
   "cell_type": "code",
   "execution_count": 8,
   "id": "b238f628",
   "metadata": {},
   "outputs": [
    {
     "name": "stdout",
     "output_type": "stream",
     "text": [
      "k=1, valid_acc : 0.3613193403298351\n",
      "k=2, valid_acc : 0.3980509745127436\n",
      "k=3, valid_acc : 0.40554722638680657\n",
      "k=5, valid_acc : 0.4062968515742129\n",
      "k=9, valid_acc : 0.41379310344827586\n",
      "k=11, valid_acc : 0.4197901049475262\n",
      "k=19, valid_acc : 0.424287856071964\n",
      "k=28, valid_acc : 0.42653673163418293\n"
     ]
    }
   ],
   "source": [
    "from sklearn.neighbors import KNeighborsClassifier\n",
    "from sklearn.metrics import accuracy_score\n",
    "import pandas as pd\n",
    "\n",
    "#学習データの読み込み\n",
    "train_X = pd.read_csv('train.feature.txt', encoding='utf-8', sep=',', header=None)\n",
    "train_Y = pd.read_csv('train.txt', sep='\\t', encoding='utf-8', names=['CATEGORY', 'TITLE'])\n",
    "\n",
    "#検証データの読み込み\n",
    "valid_X = pd.read_csv('valid.feature.txt', encoding='utf-8', sep=',', header=None)\n",
    "valid_Y = pd.read_csv('valid.txt', sep='\\t', encoding='utf-8', names=['CATEGORY', 'TITLE'])\n",
    "\n",
    "#評価データの読み込み\n",
    "test_X = pd.read_csv('test.feature.txt', encoding='utf-8', sep=',', header=None)\n",
    "test_Y = pd.read_csv('test.txt', sep='\\t', encoding='utf-8', names=['CATEGORY', 'TITLE'])\n",
    "\n",
    "acc_ = 0\n",
    "for k in range(1, 30):\n",
    "    Kneighbor = KNeighborsClassifier(n_neighbors=k)\n",
    "    Kneighbor.fit(train_X, train_Y['CATEGORY'])\n",
    "\n",
    "    valid_pred = Kneighbor.predict(valid_X)\n",
    "    acc= accuracy_score(valid_Y['CATEGORY'], valid_pred)\n",
    "    if acc > acc_:\n",
    "        acc_ = acc\n",
    "        print(f'k={k}, valid_acc : {acc}')"
   ]
  },
  {
   "cell_type": "markdown",
   "id": "e1310b8c",
   "metadata": {},
   "source": [
    "`ロジスティック回帰`での学習（パラメータを変えて）"
   ]
  },
  {
   "cell_type": "code",
   "execution_count": 20,
   "id": "3ee19d40",
   "metadata": {},
   "outputs": [
    {
     "name": "stdout",
     "output_type": "stream",
     "text": [
      "C=0.04978706836786395, valid accuracy : 0.41529235382308843, test accuracy : 0.4257871064467766\n",
      "C=0.0995741367357279, valid accuracy : 0.4250374812593703, test accuracy : 0.44227886056971516\n"
     ]
    }
   ],
   "source": [
    "from tqdm import tqdm\n",
    "import math\n",
    "import numpy as np\n",
    "\n",
    "def score_LR(lg, X):\n",
    "  return [np.max(lg.predict_proba(X), axis=1), lg.predict(X)]\n",
    "\n",
    "acc_ = 0\n",
    "for C in range(1, 15):\n",
    "  C = float(C)*math.pow(math.e, -3)\n",
    "  # モデルの学習\n",
    "  LR = LogisticRegression(random_state=123, max_iter=10000, C=C)\n",
    "  LR.fit(train_X, train_Y['CATEGORY'])\n",
    "\n",
    "  # 予測値の取得\n",
    "  valid_pred = score_LR(LR, valid_X)\n",
    "  test_pred = score_LR(LR, test_X)\n",
    "\n",
    "  # 正解率の算出\n",
    "  valid_acc = accuracy_score(valid_Y['CATEGORY'], valid_pred[1])\n",
    "  test_acc = accuracy_score(test_Y['CATEGORY'], test_pred[1])\n",
    "  if valid_acc > acc_:\n",
    "    acc_ = valid_acc\n",
    "    print(f'C={C}, valid accuracy : {valid_acc}, test accuracy : {test_acc}')"
   ]
  },
  {
   "cell_type": "markdown",
   "id": "0577424e",
   "metadata": {},
   "source": [
    "`ランダムフォレスト`での学習"
   ]
  },
  {
   "cell_type": "code",
   "execution_count": 24,
   "id": "3afcbde8",
   "metadata": {},
   "outputs": [
    {
     "name": "stdout",
     "output_type": "stream",
     "text": [
      "0.3853073463268366\n"
     ]
    }
   ],
   "source": [
    "from sklearn.ensemble import RandomForestClassifier\n",
    "from sklearn.metrics import accuracy_score\n",
    "import pandas as pd\n",
    "\n",
    "#学習データの読み込み\n",
    "train_X = pd.read_csv('train.feature.txt', encoding='utf-8', sep=',', header=None)\n",
    "train_Y = pd.read_csv('train.txt', sep='\\t', encoding='utf-8', names=['CATEGORY', 'TITLE'])\n",
    "\n",
    "#検証データの読み込み\n",
    "valid_X = pd.read_csv('valid.feature.txt', encoding='utf-8', sep=',', header=None)\n",
    "valid_Y = pd.read_csv('valid.txt', sep='\\t', encoding='utf-8', names=['CATEGORY', 'TITLE'])\n",
    "\n",
    "#評価データの読み込み\n",
    "test_X = pd.read_csv('test.feature.txt', encoding='utf-8', sep=',', header=None)\n",
    "test_Y = pd.read_csv('test.txt', sep='\\t', encoding='utf-8', names=['CATEGORY', 'TITLE'])\n",
    "\n",
    "forest = RandomForestClassifier(random_state=1234)\n",
    "forest.fit(train_X, train_Y['CATEGORY'])\n",
    "\n",
    "valid_pred = forest.predict(valid_X)\n",
    "acc= accuracy_score(valid_Y['CATEGORY'], valid_pred)\n",
    "print(acc)"
   ]
  },
  {
   "cell_type": "code",
   "execution_count": null,
   "id": "04c4bf2d",
   "metadata": {},
   "outputs": [],
   "source": []
  }
 ],
 "metadata": {
  "interpreter": {
   "hash": "bf872237def726a17c98cd5021a753e6fb6d57829984f48dafeeac1e44cc3a6e"
  },
  "kernelspec": {
   "display_name": "Python 3.8.6 64-bit ('base': venv)",
   "name": "python3"
  },
  "language_info": {
   "codemirror_mode": {
    "name": "ipython",
    "version": 3
   },
   "file_extension": ".py",
   "mimetype": "text/x-python",
   "name": "python",
   "nbconvert_exporter": "python",
   "pygments_lexer": "ipython3",
   "version": "3.8.10"
  }
 },
 "nbformat": 4,
 "nbformat_minor": 5
}
